{
  "nbformat": 4,
  "nbformat_minor": 0,
  "metadata": {
    "kernelspec": {
      "display_name": "Python 3",
      "language": "python",
      "name": "python3"
    },
    "language_info": {
      "codemirror_mode": {
        "name": "ipython",
        "version": 3
      },
      "file_extension": ".py",
      "mimetype": "text/x-python",
      "name": "python",
      "nbconvert_exporter": "python",
      "pygments_lexer": "ipython3",
      "version": "3.7.7"
    },
    "latex_envs": {
      "LaTeX_envs_menu_present": true,
      "autoclose": false,
      "autocomplete": true,
      "bibliofile": "biblio.bib",
      "cite_by": "apalike",
      "current_citInitial": 1,
      "eqLabelWithNumbers": true,
      "eqNumInitial": 1,
      "hotkeys": {
        "equation": "Ctrl-E",
        "itemize": "Ctrl-I"
      },
      "labels_anchors": false,
      "latex_user_defs": false,
      "report_style_numbering": false,
      "user_envs_cfg": false
    },
    "colab": {
      "provenance": [],
      "include_colab_link": true
    },
    "widgets": {
      "application/vnd.jupyter.widget-state+json": {
        "889f446bfa4f4fe0bf7fe43d13f52d14": {
          "model_module": "@jupyter-widgets/controls",
          "model_name": "HBoxModel",
          "model_module_version": "1.5.0",
          "state": {
            "_dom_classes": [],
            "_model_module": "@jupyter-widgets/controls",
            "_model_module_version": "1.5.0",
            "_model_name": "HBoxModel",
            "_view_count": null,
            "_view_module": "@jupyter-widgets/controls",
            "_view_module_version": "1.5.0",
            "_view_name": "HBoxView",
            "box_style": "",
            "children": [
              "IPY_MODEL_5e097cb0fe8248a3afcdf6b58f78836c",
              "IPY_MODEL_112a2d4098694cacb61234e451c482f1",
              "IPY_MODEL_f1f4f432b33f45508e528a406e84e162"
            ],
            "layout": "IPY_MODEL_d7573bd397ac4865889f52597ed7d7c7"
          }
        },
        "5e097cb0fe8248a3afcdf6b58f78836c": {
          "model_module": "@jupyter-widgets/controls",
          "model_name": "HTMLModel",
          "model_module_version": "1.5.0",
          "state": {
            "_dom_classes": [],
            "_model_module": "@jupyter-widgets/controls",
            "_model_module_version": "1.5.0",
            "_model_name": "HTMLModel",
            "_view_count": null,
            "_view_module": "@jupyter-widgets/controls",
            "_view_module_version": "1.5.0",
            "_view_name": "HTMLView",
            "description": "",
            "description_tooltip": null,
            "layout": "IPY_MODEL_526f7712409946c99727a3b36764ef80",
            "placeholder": "​",
            "style": "IPY_MODEL_fc19c53c232041e39435112615387ba7",
            "value": "100%"
          }
        },
        "112a2d4098694cacb61234e451c482f1": {
          "model_module": "@jupyter-widgets/controls",
          "model_name": "FloatProgressModel",
          "model_module_version": "1.5.0",
          "state": {
            "_dom_classes": [],
            "_model_module": "@jupyter-widgets/controls",
            "_model_module_version": "1.5.0",
            "_model_name": "FloatProgressModel",
            "_view_count": null,
            "_view_module": "@jupyter-widgets/controls",
            "_view_module_version": "1.5.0",
            "_view_name": "ProgressView",
            "bar_style": "success",
            "description": "",
            "description_tooltip": null,
            "layout": "IPY_MODEL_c28954bf05c2409b9477c9d870136d09",
            "max": 26421880,
            "min": 0,
            "orientation": "horizontal",
            "style": "IPY_MODEL_2c7d08e0dc45481bb0b0c996090ba89d",
            "value": 26421880
          }
        },
        "f1f4f432b33f45508e528a406e84e162": {
          "model_module": "@jupyter-widgets/controls",
          "model_name": "HTMLModel",
          "model_module_version": "1.5.0",
          "state": {
            "_dom_classes": [],
            "_model_module": "@jupyter-widgets/controls",
            "_model_module_version": "1.5.0",
            "_model_name": "HTMLModel",
            "_view_count": null,
            "_view_module": "@jupyter-widgets/controls",
            "_view_module_version": "1.5.0",
            "_view_name": "HTMLView",
            "description": "",
            "description_tooltip": null,
            "layout": "IPY_MODEL_9a0dcdb5ea944202a54318a2e9207c9d",
            "placeholder": "​",
            "style": "IPY_MODEL_9fb8e00d6e62495e87592e3a74a94344",
            "value": " 26421880/26421880 [00:01&lt;00:00, 29992638.27it/s]"
          }
        },
        "d7573bd397ac4865889f52597ed7d7c7": {
          "model_module": "@jupyter-widgets/base",
          "model_name": "LayoutModel",
          "model_module_version": "1.2.0",
          "state": {
            "_model_module": "@jupyter-widgets/base",
            "_model_module_version": "1.2.0",
            "_model_name": "LayoutModel",
            "_view_count": null,
            "_view_module": "@jupyter-widgets/base",
            "_view_module_version": "1.2.0",
            "_view_name": "LayoutView",
            "align_content": null,
            "align_items": null,
            "align_self": null,
            "border": null,
            "bottom": null,
            "display": null,
            "flex": null,
            "flex_flow": null,
            "grid_area": null,
            "grid_auto_columns": null,
            "grid_auto_flow": null,
            "grid_auto_rows": null,
            "grid_column": null,
            "grid_gap": null,
            "grid_row": null,
            "grid_template_areas": null,
            "grid_template_columns": null,
            "grid_template_rows": null,
            "height": null,
            "justify_content": null,
            "justify_items": null,
            "left": null,
            "margin": null,
            "max_height": null,
            "max_width": null,
            "min_height": null,
            "min_width": null,
            "object_fit": null,
            "object_position": null,
            "order": null,
            "overflow": null,
            "overflow_x": null,
            "overflow_y": null,
            "padding": null,
            "right": null,
            "top": null,
            "visibility": null,
            "width": null
          }
        },
        "526f7712409946c99727a3b36764ef80": {
          "model_module": "@jupyter-widgets/base",
          "model_name": "LayoutModel",
          "model_module_version": "1.2.0",
          "state": {
            "_model_module": "@jupyter-widgets/base",
            "_model_module_version": "1.2.0",
            "_model_name": "LayoutModel",
            "_view_count": null,
            "_view_module": "@jupyter-widgets/base",
            "_view_module_version": "1.2.0",
            "_view_name": "LayoutView",
            "align_content": null,
            "align_items": null,
            "align_self": null,
            "border": null,
            "bottom": null,
            "display": null,
            "flex": null,
            "flex_flow": null,
            "grid_area": null,
            "grid_auto_columns": null,
            "grid_auto_flow": null,
            "grid_auto_rows": null,
            "grid_column": null,
            "grid_gap": null,
            "grid_row": null,
            "grid_template_areas": null,
            "grid_template_columns": null,
            "grid_template_rows": null,
            "height": null,
            "justify_content": null,
            "justify_items": null,
            "left": null,
            "margin": null,
            "max_height": null,
            "max_width": null,
            "min_height": null,
            "min_width": null,
            "object_fit": null,
            "object_position": null,
            "order": null,
            "overflow": null,
            "overflow_x": null,
            "overflow_y": null,
            "padding": null,
            "right": null,
            "top": null,
            "visibility": null,
            "width": null
          }
        },
        "fc19c53c232041e39435112615387ba7": {
          "model_module": "@jupyter-widgets/controls",
          "model_name": "DescriptionStyleModel",
          "model_module_version": "1.5.0",
          "state": {
            "_model_module": "@jupyter-widgets/controls",
            "_model_module_version": "1.5.0",
            "_model_name": "DescriptionStyleModel",
            "_view_count": null,
            "_view_module": "@jupyter-widgets/base",
            "_view_module_version": "1.2.0",
            "_view_name": "StyleView",
            "description_width": ""
          }
        },
        "c28954bf05c2409b9477c9d870136d09": {
          "model_module": "@jupyter-widgets/base",
          "model_name": "LayoutModel",
          "model_module_version": "1.2.0",
          "state": {
            "_model_module": "@jupyter-widgets/base",
            "_model_module_version": "1.2.0",
            "_model_name": "LayoutModel",
            "_view_count": null,
            "_view_module": "@jupyter-widgets/base",
            "_view_module_version": "1.2.0",
            "_view_name": "LayoutView",
            "align_content": null,
            "align_items": null,
            "align_self": null,
            "border": null,
            "bottom": null,
            "display": null,
            "flex": null,
            "flex_flow": null,
            "grid_area": null,
            "grid_auto_columns": null,
            "grid_auto_flow": null,
            "grid_auto_rows": null,
            "grid_column": null,
            "grid_gap": null,
            "grid_row": null,
            "grid_template_areas": null,
            "grid_template_columns": null,
            "grid_template_rows": null,
            "height": null,
            "justify_content": null,
            "justify_items": null,
            "left": null,
            "margin": null,
            "max_height": null,
            "max_width": null,
            "min_height": null,
            "min_width": null,
            "object_fit": null,
            "object_position": null,
            "order": null,
            "overflow": null,
            "overflow_x": null,
            "overflow_y": null,
            "padding": null,
            "right": null,
            "top": null,
            "visibility": null,
            "width": null
          }
        },
        "2c7d08e0dc45481bb0b0c996090ba89d": {
          "model_module": "@jupyter-widgets/controls",
          "model_name": "ProgressStyleModel",
          "model_module_version": "1.5.0",
          "state": {
            "_model_module": "@jupyter-widgets/controls",
            "_model_module_version": "1.5.0",
            "_model_name": "ProgressStyleModel",
            "_view_count": null,
            "_view_module": "@jupyter-widgets/base",
            "_view_module_version": "1.2.0",
            "_view_name": "StyleView",
            "bar_color": null,
            "description_width": ""
          }
        },
        "9a0dcdb5ea944202a54318a2e9207c9d": {
          "model_module": "@jupyter-widgets/base",
          "model_name": "LayoutModel",
          "model_module_version": "1.2.0",
          "state": {
            "_model_module": "@jupyter-widgets/base",
            "_model_module_version": "1.2.0",
            "_model_name": "LayoutModel",
            "_view_count": null,
            "_view_module": "@jupyter-widgets/base",
            "_view_module_version": "1.2.0",
            "_view_name": "LayoutView",
            "align_content": null,
            "align_items": null,
            "align_self": null,
            "border": null,
            "bottom": null,
            "display": null,
            "flex": null,
            "flex_flow": null,
            "grid_area": null,
            "grid_auto_columns": null,
            "grid_auto_flow": null,
            "grid_auto_rows": null,
            "grid_column": null,
            "grid_gap": null,
            "grid_row": null,
            "grid_template_areas": null,
            "grid_template_columns": null,
            "grid_template_rows": null,
            "height": null,
            "justify_content": null,
            "justify_items": null,
            "left": null,
            "margin": null,
            "max_height": null,
            "max_width": null,
            "min_height": null,
            "min_width": null,
            "object_fit": null,
            "object_position": null,
            "order": null,
            "overflow": null,
            "overflow_x": null,
            "overflow_y": null,
            "padding": null,
            "right": null,
            "top": null,
            "visibility": null,
            "width": null
          }
        },
        "9fb8e00d6e62495e87592e3a74a94344": {
          "model_module": "@jupyter-widgets/controls",
          "model_name": "DescriptionStyleModel",
          "model_module_version": "1.5.0",
          "state": {
            "_model_module": "@jupyter-widgets/controls",
            "_model_module_version": "1.5.0",
            "_model_name": "DescriptionStyleModel",
            "_view_count": null,
            "_view_module": "@jupyter-widgets/base",
            "_view_module_version": "1.2.0",
            "_view_name": "StyleView",
            "description_width": ""
          }
        },
        "1ebf463fa1c44b779006a6af292f8d9a": {
          "model_module": "@jupyter-widgets/controls",
          "model_name": "HBoxModel",
          "model_module_version": "1.5.0",
          "state": {
            "_dom_classes": [],
            "_model_module": "@jupyter-widgets/controls",
            "_model_module_version": "1.5.0",
            "_model_name": "HBoxModel",
            "_view_count": null,
            "_view_module": "@jupyter-widgets/controls",
            "_view_module_version": "1.5.0",
            "_view_name": "HBoxView",
            "box_style": "",
            "children": [
              "IPY_MODEL_32fde92a67f9436eaa7b10bfcb4d79ba",
              "IPY_MODEL_8b29f463b1724e7cabb689e31994ac38",
              "IPY_MODEL_eee422774bac4a158fc0315c133c2bc6"
            ],
            "layout": "IPY_MODEL_832241479d7445cbbe4d3af3a4acec46"
          }
        },
        "32fde92a67f9436eaa7b10bfcb4d79ba": {
          "model_module": "@jupyter-widgets/controls",
          "model_name": "HTMLModel",
          "model_module_version": "1.5.0",
          "state": {
            "_dom_classes": [],
            "_model_module": "@jupyter-widgets/controls",
            "_model_module_version": "1.5.0",
            "_model_name": "HTMLModel",
            "_view_count": null,
            "_view_module": "@jupyter-widgets/controls",
            "_view_module_version": "1.5.0",
            "_view_name": "HTMLView",
            "description": "",
            "description_tooltip": null,
            "layout": "IPY_MODEL_eca42256c92c48d69b323fe1d1c003e1",
            "placeholder": "​",
            "style": "IPY_MODEL_9556336c586e4bfebc92ee7ff262e12f",
            "value": "100%"
          }
        },
        "8b29f463b1724e7cabb689e31994ac38": {
          "model_module": "@jupyter-widgets/controls",
          "model_name": "FloatProgressModel",
          "model_module_version": "1.5.0",
          "state": {
            "_dom_classes": [],
            "_model_module": "@jupyter-widgets/controls",
            "_model_module_version": "1.5.0",
            "_model_name": "FloatProgressModel",
            "_view_count": null,
            "_view_module": "@jupyter-widgets/controls",
            "_view_module_version": "1.5.0",
            "_view_name": "ProgressView",
            "bar_style": "success",
            "description": "",
            "description_tooltip": null,
            "layout": "IPY_MODEL_fa2c8c08753646a9bd2bf3bfa18caa69",
            "max": 29515,
            "min": 0,
            "orientation": "horizontal",
            "style": "IPY_MODEL_c3fc7f5865984a34ad2b8915a207a331",
            "value": 29515
          }
        },
        "eee422774bac4a158fc0315c133c2bc6": {
          "model_module": "@jupyter-widgets/controls",
          "model_name": "HTMLModel",
          "model_module_version": "1.5.0",
          "state": {
            "_dom_classes": [],
            "_model_module": "@jupyter-widgets/controls",
            "_model_module_version": "1.5.0",
            "_model_name": "HTMLModel",
            "_view_count": null,
            "_view_module": "@jupyter-widgets/controls",
            "_view_module_version": "1.5.0",
            "_view_name": "HTMLView",
            "description": "",
            "description_tooltip": null,
            "layout": "IPY_MODEL_8f07b934c4da48a6a94188b35dff4577",
            "placeholder": "​",
            "style": "IPY_MODEL_d6cd794ea7a442fa8bba4b2f11521620",
            "value": " 29515/29515 [00:00&lt;00:00, 330161.07it/s]"
          }
        },
        "832241479d7445cbbe4d3af3a4acec46": {
          "model_module": "@jupyter-widgets/base",
          "model_name": "LayoutModel",
          "model_module_version": "1.2.0",
          "state": {
            "_model_module": "@jupyter-widgets/base",
            "_model_module_version": "1.2.0",
            "_model_name": "LayoutModel",
            "_view_count": null,
            "_view_module": "@jupyter-widgets/base",
            "_view_module_version": "1.2.0",
            "_view_name": "LayoutView",
            "align_content": null,
            "align_items": null,
            "align_self": null,
            "border": null,
            "bottom": null,
            "display": null,
            "flex": null,
            "flex_flow": null,
            "grid_area": null,
            "grid_auto_columns": null,
            "grid_auto_flow": null,
            "grid_auto_rows": null,
            "grid_column": null,
            "grid_gap": null,
            "grid_row": null,
            "grid_template_areas": null,
            "grid_template_columns": null,
            "grid_template_rows": null,
            "height": null,
            "justify_content": null,
            "justify_items": null,
            "left": null,
            "margin": null,
            "max_height": null,
            "max_width": null,
            "min_height": null,
            "min_width": null,
            "object_fit": null,
            "object_position": null,
            "order": null,
            "overflow": null,
            "overflow_x": null,
            "overflow_y": null,
            "padding": null,
            "right": null,
            "top": null,
            "visibility": null,
            "width": null
          }
        },
        "eca42256c92c48d69b323fe1d1c003e1": {
          "model_module": "@jupyter-widgets/base",
          "model_name": "LayoutModel",
          "model_module_version": "1.2.0",
          "state": {
            "_model_module": "@jupyter-widgets/base",
            "_model_module_version": "1.2.0",
            "_model_name": "LayoutModel",
            "_view_count": null,
            "_view_module": "@jupyter-widgets/base",
            "_view_module_version": "1.2.0",
            "_view_name": "LayoutView",
            "align_content": null,
            "align_items": null,
            "align_self": null,
            "border": null,
            "bottom": null,
            "display": null,
            "flex": null,
            "flex_flow": null,
            "grid_area": null,
            "grid_auto_columns": null,
            "grid_auto_flow": null,
            "grid_auto_rows": null,
            "grid_column": null,
            "grid_gap": null,
            "grid_row": null,
            "grid_template_areas": null,
            "grid_template_columns": null,
            "grid_template_rows": null,
            "height": null,
            "justify_content": null,
            "justify_items": null,
            "left": null,
            "margin": null,
            "max_height": null,
            "max_width": null,
            "min_height": null,
            "min_width": null,
            "object_fit": null,
            "object_position": null,
            "order": null,
            "overflow": null,
            "overflow_x": null,
            "overflow_y": null,
            "padding": null,
            "right": null,
            "top": null,
            "visibility": null,
            "width": null
          }
        },
        "9556336c586e4bfebc92ee7ff262e12f": {
          "model_module": "@jupyter-widgets/controls",
          "model_name": "DescriptionStyleModel",
          "model_module_version": "1.5.0",
          "state": {
            "_model_module": "@jupyter-widgets/controls",
            "_model_module_version": "1.5.0",
            "_model_name": "DescriptionStyleModel",
            "_view_count": null,
            "_view_module": "@jupyter-widgets/base",
            "_view_module_version": "1.2.0",
            "_view_name": "StyleView",
            "description_width": ""
          }
        },
        "fa2c8c08753646a9bd2bf3bfa18caa69": {
          "model_module": "@jupyter-widgets/base",
          "model_name": "LayoutModel",
          "model_module_version": "1.2.0",
          "state": {
            "_model_module": "@jupyter-widgets/base",
            "_model_module_version": "1.2.0",
            "_model_name": "LayoutModel",
            "_view_count": null,
            "_view_module": "@jupyter-widgets/base",
            "_view_module_version": "1.2.0",
            "_view_name": "LayoutView",
            "align_content": null,
            "align_items": null,
            "align_self": null,
            "border": null,
            "bottom": null,
            "display": null,
            "flex": null,
            "flex_flow": null,
            "grid_area": null,
            "grid_auto_columns": null,
            "grid_auto_flow": null,
            "grid_auto_rows": null,
            "grid_column": null,
            "grid_gap": null,
            "grid_row": null,
            "grid_template_areas": null,
            "grid_template_columns": null,
            "grid_template_rows": null,
            "height": null,
            "justify_content": null,
            "justify_items": null,
            "left": null,
            "margin": null,
            "max_height": null,
            "max_width": null,
            "min_height": null,
            "min_width": null,
            "object_fit": null,
            "object_position": null,
            "order": null,
            "overflow": null,
            "overflow_x": null,
            "overflow_y": null,
            "padding": null,
            "right": null,
            "top": null,
            "visibility": null,
            "width": null
          }
        },
        "c3fc7f5865984a34ad2b8915a207a331": {
          "model_module": "@jupyter-widgets/controls",
          "model_name": "ProgressStyleModel",
          "model_module_version": "1.5.0",
          "state": {
            "_model_module": "@jupyter-widgets/controls",
            "_model_module_version": "1.5.0",
            "_model_name": "ProgressStyleModel",
            "_view_count": null,
            "_view_module": "@jupyter-widgets/base",
            "_view_module_version": "1.2.0",
            "_view_name": "StyleView",
            "bar_color": null,
            "description_width": ""
          }
        },
        "8f07b934c4da48a6a94188b35dff4577": {
          "model_module": "@jupyter-widgets/base",
          "model_name": "LayoutModel",
          "model_module_version": "1.2.0",
          "state": {
            "_model_module": "@jupyter-widgets/base",
            "_model_module_version": "1.2.0",
            "_model_name": "LayoutModel",
            "_view_count": null,
            "_view_module": "@jupyter-widgets/base",
            "_view_module_version": "1.2.0",
            "_view_name": "LayoutView",
            "align_content": null,
            "align_items": null,
            "align_self": null,
            "border": null,
            "bottom": null,
            "display": null,
            "flex": null,
            "flex_flow": null,
            "grid_area": null,
            "grid_auto_columns": null,
            "grid_auto_flow": null,
            "grid_auto_rows": null,
            "grid_column": null,
            "grid_gap": null,
            "grid_row": null,
            "grid_template_areas": null,
            "grid_template_columns": null,
            "grid_template_rows": null,
            "height": null,
            "justify_content": null,
            "justify_items": null,
            "left": null,
            "margin": null,
            "max_height": null,
            "max_width": null,
            "min_height": null,
            "min_width": null,
            "object_fit": null,
            "object_position": null,
            "order": null,
            "overflow": null,
            "overflow_x": null,
            "overflow_y": null,
            "padding": null,
            "right": null,
            "top": null,
            "visibility": null,
            "width": null
          }
        },
        "d6cd794ea7a442fa8bba4b2f11521620": {
          "model_module": "@jupyter-widgets/controls",
          "model_name": "DescriptionStyleModel",
          "model_module_version": "1.5.0",
          "state": {
            "_model_module": "@jupyter-widgets/controls",
            "_model_module_version": "1.5.0",
            "_model_name": "DescriptionStyleModel",
            "_view_count": null,
            "_view_module": "@jupyter-widgets/base",
            "_view_module_version": "1.2.0",
            "_view_name": "StyleView",
            "description_width": ""
          }
        },
        "d482d650ae754909808f10b399bf89b0": {
          "model_module": "@jupyter-widgets/controls",
          "model_name": "HBoxModel",
          "model_module_version": "1.5.0",
          "state": {
            "_dom_classes": [],
            "_model_module": "@jupyter-widgets/controls",
            "_model_module_version": "1.5.0",
            "_model_name": "HBoxModel",
            "_view_count": null,
            "_view_module": "@jupyter-widgets/controls",
            "_view_module_version": "1.5.0",
            "_view_name": "HBoxView",
            "box_style": "",
            "children": [
              "IPY_MODEL_bc07243f253c4269bb88e4bd3a553029",
              "IPY_MODEL_a933c6c220cc47e4bd867912e67d4d9f",
              "IPY_MODEL_fcd2f35b3a7c4dd08657f964438534dc"
            ],
            "layout": "IPY_MODEL_9305be0f611a4ead94a767c6e55bfc30"
          }
        },
        "bc07243f253c4269bb88e4bd3a553029": {
          "model_module": "@jupyter-widgets/controls",
          "model_name": "HTMLModel",
          "model_module_version": "1.5.0",
          "state": {
            "_dom_classes": [],
            "_model_module": "@jupyter-widgets/controls",
            "_model_module_version": "1.5.0",
            "_model_name": "HTMLModel",
            "_view_count": null,
            "_view_module": "@jupyter-widgets/controls",
            "_view_module_version": "1.5.0",
            "_view_name": "HTMLView",
            "description": "",
            "description_tooltip": null,
            "layout": "IPY_MODEL_b143eff4ca51420bacd547216a42f192",
            "placeholder": "​",
            "style": "IPY_MODEL_fe68c45fec494293a3e4bc4fced94d55",
            "value": "100%"
          }
        },
        "a933c6c220cc47e4bd867912e67d4d9f": {
          "model_module": "@jupyter-widgets/controls",
          "model_name": "FloatProgressModel",
          "model_module_version": "1.5.0",
          "state": {
            "_dom_classes": [],
            "_model_module": "@jupyter-widgets/controls",
            "_model_module_version": "1.5.0",
            "_model_name": "FloatProgressModel",
            "_view_count": null,
            "_view_module": "@jupyter-widgets/controls",
            "_view_module_version": "1.5.0",
            "_view_name": "ProgressView",
            "bar_style": "success",
            "description": "",
            "description_tooltip": null,
            "layout": "IPY_MODEL_80646ac5db6b4ee0bfd7afc9491227dc",
            "max": 4422102,
            "min": 0,
            "orientation": "horizontal",
            "style": "IPY_MODEL_805d21ad591d42eb9f67e4dc58cac039",
            "value": 4422102
          }
        },
        "fcd2f35b3a7c4dd08657f964438534dc": {
          "model_module": "@jupyter-widgets/controls",
          "model_name": "HTMLModel",
          "model_module_version": "1.5.0",
          "state": {
            "_dom_classes": [],
            "_model_module": "@jupyter-widgets/controls",
            "_model_module_version": "1.5.0",
            "_model_name": "HTMLModel",
            "_view_count": null,
            "_view_module": "@jupyter-widgets/controls",
            "_view_module_version": "1.5.0",
            "_view_name": "HTMLView",
            "description": "",
            "description_tooltip": null,
            "layout": "IPY_MODEL_66ac02c5ffda4e60bd48b23ee102805a",
            "placeholder": "​",
            "style": "IPY_MODEL_7a99cf557ea14dc58c5c67716e66b507",
            "value": " 4422102/4422102 [00:00&lt;00:00, 8145380.45it/s]"
          }
        },
        "9305be0f611a4ead94a767c6e55bfc30": {
          "model_module": "@jupyter-widgets/base",
          "model_name": "LayoutModel",
          "model_module_version": "1.2.0",
          "state": {
            "_model_module": "@jupyter-widgets/base",
            "_model_module_version": "1.2.0",
            "_model_name": "LayoutModel",
            "_view_count": null,
            "_view_module": "@jupyter-widgets/base",
            "_view_module_version": "1.2.0",
            "_view_name": "LayoutView",
            "align_content": null,
            "align_items": null,
            "align_self": null,
            "border": null,
            "bottom": null,
            "display": null,
            "flex": null,
            "flex_flow": null,
            "grid_area": null,
            "grid_auto_columns": null,
            "grid_auto_flow": null,
            "grid_auto_rows": null,
            "grid_column": null,
            "grid_gap": null,
            "grid_row": null,
            "grid_template_areas": null,
            "grid_template_columns": null,
            "grid_template_rows": null,
            "height": null,
            "justify_content": null,
            "justify_items": null,
            "left": null,
            "margin": null,
            "max_height": null,
            "max_width": null,
            "min_height": null,
            "min_width": null,
            "object_fit": null,
            "object_position": null,
            "order": null,
            "overflow": null,
            "overflow_x": null,
            "overflow_y": null,
            "padding": null,
            "right": null,
            "top": null,
            "visibility": null,
            "width": null
          }
        },
        "b143eff4ca51420bacd547216a42f192": {
          "model_module": "@jupyter-widgets/base",
          "model_name": "LayoutModel",
          "model_module_version": "1.2.0",
          "state": {
            "_model_module": "@jupyter-widgets/base",
            "_model_module_version": "1.2.0",
            "_model_name": "LayoutModel",
            "_view_count": null,
            "_view_module": "@jupyter-widgets/base",
            "_view_module_version": "1.2.0",
            "_view_name": "LayoutView",
            "align_content": null,
            "align_items": null,
            "align_self": null,
            "border": null,
            "bottom": null,
            "display": null,
            "flex": null,
            "flex_flow": null,
            "grid_area": null,
            "grid_auto_columns": null,
            "grid_auto_flow": null,
            "grid_auto_rows": null,
            "grid_column": null,
            "grid_gap": null,
            "grid_row": null,
            "grid_template_areas": null,
            "grid_template_columns": null,
            "grid_template_rows": null,
            "height": null,
            "justify_content": null,
            "justify_items": null,
            "left": null,
            "margin": null,
            "max_height": null,
            "max_width": null,
            "min_height": null,
            "min_width": null,
            "object_fit": null,
            "object_position": null,
            "order": null,
            "overflow": null,
            "overflow_x": null,
            "overflow_y": null,
            "padding": null,
            "right": null,
            "top": null,
            "visibility": null,
            "width": null
          }
        },
        "fe68c45fec494293a3e4bc4fced94d55": {
          "model_module": "@jupyter-widgets/controls",
          "model_name": "DescriptionStyleModel",
          "model_module_version": "1.5.0",
          "state": {
            "_model_module": "@jupyter-widgets/controls",
            "_model_module_version": "1.5.0",
            "_model_name": "DescriptionStyleModel",
            "_view_count": null,
            "_view_module": "@jupyter-widgets/base",
            "_view_module_version": "1.2.0",
            "_view_name": "StyleView",
            "description_width": ""
          }
        },
        "80646ac5db6b4ee0bfd7afc9491227dc": {
          "model_module": "@jupyter-widgets/base",
          "model_name": "LayoutModel",
          "model_module_version": "1.2.0",
          "state": {
            "_model_module": "@jupyter-widgets/base",
            "_model_module_version": "1.2.0",
            "_model_name": "LayoutModel",
            "_view_count": null,
            "_view_module": "@jupyter-widgets/base",
            "_view_module_version": "1.2.0",
            "_view_name": "LayoutView",
            "align_content": null,
            "align_items": null,
            "align_self": null,
            "border": null,
            "bottom": null,
            "display": null,
            "flex": null,
            "flex_flow": null,
            "grid_area": null,
            "grid_auto_columns": null,
            "grid_auto_flow": null,
            "grid_auto_rows": null,
            "grid_column": null,
            "grid_gap": null,
            "grid_row": null,
            "grid_template_areas": null,
            "grid_template_columns": null,
            "grid_template_rows": null,
            "height": null,
            "justify_content": null,
            "justify_items": null,
            "left": null,
            "margin": null,
            "max_height": null,
            "max_width": null,
            "min_height": null,
            "min_width": null,
            "object_fit": null,
            "object_position": null,
            "order": null,
            "overflow": null,
            "overflow_x": null,
            "overflow_y": null,
            "padding": null,
            "right": null,
            "top": null,
            "visibility": null,
            "width": null
          }
        },
        "805d21ad591d42eb9f67e4dc58cac039": {
          "model_module": "@jupyter-widgets/controls",
          "model_name": "ProgressStyleModel",
          "model_module_version": "1.5.0",
          "state": {
            "_model_module": "@jupyter-widgets/controls",
            "_model_module_version": "1.5.0",
            "_model_name": "ProgressStyleModel",
            "_view_count": null,
            "_view_module": "@jupyter-widgets/base",
            "_view_module_version": "1.2.0",
            "_view_name": "StyleView",
            "bar_color": null,
            "description_width": ""
          }
        },
        "66ac02c5ffda4e60bd48b23ee102805a": {
          "model_module": "@jupyter-widgets/base",
          "model_name": "LayoutModel",
          "model_module_version": "1.2.0",
          "state": {
            "_model_module": "@jupyter-widgets/base",
            "_model_module_version": "1.2.0",
            "_model_name": "LayoutModel",
            "_view_count": null,
            "_view_module": "@jupyter-widgets/base",
            "_view_module_version": "1.2.0",
            "_view_name": "LayoutView",
            "align_content": null,
            "align_items": null,
            "align_self": null,
            "border": null,
            "bottom": null,
            "display": null,
            "flex": null,
            "flex_flow": null,
            "grid_area": null,
            "grid_auto_columns": null,
            "grid_auto_flow": null,
            "grid_auto_rows": null,
            "grid_column": null,
            "grid_gap": null,
            "grid_row": null,
            "grid_template_areas": null,
            "grid_template_columns": null,
            "grid_template_rows": null,
            "height": null,
            "justify_content": null,
            "justify_items": null,
            "left": null,
            "margin": null,
            "max_height": null,
            "max_width": null,
            "min_height": null,
            "min_width": null,
            "object_fit": null,
            "object_position": null,
            "order": null,
            "overflow": null,
            "overflow_x": null,
            "overflow_y": null,
            "padding": null,
            "right": null,
            "top": null,
            "visibility": null,
            "width": null
          }
        },
        "7a99cf557ea14dc58c5c67716e66b507": {
          "model_module": "@jupyter-widgets/controls",
          "model_name": "DescriptionStyleModel",
          "model_module_version": "1.5.0",
          "state": {
            "_model_module": "@jupyter-widgets/controls",
            "_model_module_version": "1.5.0",
            "_model_name": "DescriptionStyleModel",
            "_view_count": null,
            "_view_module": "@jupyter-widgets/base",
            "_view_module_version": "1.2.0",
            "_view_name": "StyleView",
            "description_width": ""
          }
        },
        "577ebd073cde435391068cd537955a28": {
          "model_module": "@jupyter-widgets/controls",
          "model_name": "HBoxModel",
          "model_module_version": "1.5.0",
          "state": {
            "_dom_classes": [],
            "_model_module": "@jupyter-widgets/controls",
            "_model_module_version": "1.5.0",
            "_model_name": "HBoxModel",
            "_view_count": null,
            "_view_module": "@jupyter-widgets/controls",
            "_view_module_version": "1.5.0",
            "_view_name": "HBoxView",
            "box_style": "",
            "children": [
              "IPY_MODEL_709b910bc6a44cd1bfa6eff2adbcc51a",
              "IPY_MODEL_6932a456b7fc4682a8d8771a1b3294cf",
              "IPY_MODEL_197c19038b234c838b2223626c0cd046"
            ],
            "layout": "IPY_MODEL_ee7956a6ee894f63b1efe80061766afa"
          }
        },
        "709b910bc6a44cd1bfa6eff2adbcc51a": {
          "model_module": "@jupyter-widgets/controls",
          "model_name": "HTMLModel",
          "model_module_version": "1.5.0",
          "state": {
            "_dom_classes": [],
            "_model_module": "@jupyter-widgets/controls",
            "_model_module_version": "1.5.0",
            "_model_name": "HTMLModel",
            "_view_count": null,
            "_view_module": "@jupyter-widgets/controls",
            "_view_module_version": "1.5.0",
            "_view_name": "HTMLView",
            "description": "",
            "description_tooltip": null,
            "layout": "IPY_MODEL_9a57af15fdda4339812af7d57153ab5d",
            "placeholder": "​",
            "style": "IPY_MODEL_2660790cb82c4807a2eb4ee992798137",
            "value": "100%"
          }
        },
        "6932a456b7fc4682a8d8771a1b3294cf": {
          "model_module": "@jupyter-widgets/controls",
          "model_name": "FloatProgressModel",
          "model_module_version": "1.5.0",
          "state": {
            "_dom_classes": [],
            "_model_module": "@jupyter-widgets/controls",
            "_model_module_version": "1.5.0",
            "_model_name": "FloatProgressModel",
            "_view_count": null,
            "_view_module": "@jupyter-widgets/controls",
            "_view_module_version": "1.5.0",
            "_view_name": "ProgressView",
            "bar_style": "success",
            "description": "",
            "description_tooltip": null,
            "layout": "IPY_MODEL_6caf67bf342e4ada926c5571f77dccd3",
            "max": 5148,
            "min": 0,
            "orientation": "horizontal",
            "style": "IPY_MODEL_4b2d6e29e8f241d28e0c1f2861ea7959",
            "value": 5148
          }
        },
        "197c19038b234c838b2223626c0cd046": {
          "model_module": "@jupyter-widgets/controls",
          "model_name": "HTMLModel",
          "model_module_version": "1.5.0",
          "state": {
            "_dom_classes": [],
            "_model_module": "@jupyter-widgets/controls",
            "_model_module_version": "1.5.0",
            "_model_name": "HTMLModel",
            "_view_count": null,
            "_view_module": "@jupyter-widgets/controls",
            "_view_module_version": "1.5.0",
            "_view_name": "HTMLView",
            "description": "",
            "description_tooltip": null,
            "layout": "IPY_MODEL_e4c5bd4f94684f768bc9632b1ad21acf",
            "placeholder": "​",
            "style": "IPY_MODEL_3958691388b34992a305eca05a841d90",
            "value": " 5148/5148 [00:00&lt;00:00, 157943.35it/s]"
          }
        },
        "ee7956a6ee894f63b1efe80061766afa": {
          "model_module": "@jupyter-widgets/base",
          "model_name": "LayoutModel",
          "model_module_version": "1.2.0",
          "state": {
            "_model_module": "@jupyter-widgets/base",
            "_model_module_version": "1.2.0",
            "_model_name": "LayoutModel",
            "_view_count": null,
            "_view_module": "@jupyter-widgets/base",
            "_view_module_version": "1.2.0",
            "_view_name": "LayoutView",
            "align_content": null,
            "align_items": null,
            "align_self": null,
            "border": null,
            "bottom": null,
            "display": null,
            "flex": null,
            "flex_flow": null,
            "grid_area": null,
            "grid_auto_columns": null,
            "grid_auto_flow": null,
            "grid_auto_rows": null,
            "grid_column": null,
            "grid_gap": null,
            "grid_row": null,
            "grid_template_areas": null,
            "grid_template_columns": null,
            "grid_template_rows": null,
            "height": null,
            "justify_content": null,
            "justify_items": null,
            "left": null,
            "margin": null,
            "max_height": null,
            "max_width": null,
            "min_height": null,
            "min_width": null,
            "object_fit": null,
            "object_position": null,
            "order": null,
            "overflow": null,
            "overflow_x": null,
            "overflow_y": null,
            "padding": null,
            "right": null,
            "top": null,
            "visibility": null,
            "width": null
          }
        },
        "9a57af15fdda4339812af7d57153ab5d": {
          "model_module": "@jupyter-widgets/base",
          "model_name": "LayoutModel",
          "model_module_version": "1.2.0",
          "state": {
            "_model_module": "@jupyter-widgets/base",
            "_model_module_version": "1.2.0",
            "_model_name": "LayoutModel",
            "_view_count": null,
            "_view_module": "@jupyter-widgets/base",
            "_view_module_version": "1.2.0",
            "_view_name": "LayoutView",
            "align_content": null,
            "align_items": null,
            "align_self": null,
            "border": null,
            "bottom": null,
            "display": null,
            "flex": null,
            "flex_flow": null,
            "grid_area": null,
            "grid_auto_columns": null,
            "grid_auto_flow": null,
            "grid_auto_rows": null,
            "grid_column": null,
            "grid_gap": null,
            "grid_row": null,
            "grid_template_areas": null,
            "grid_template_columns": null,
            "grid_template_rows": null,
            "height": null,
            "justify_content": null,
            "justify_items": null,
            "left": null,
            "margin": null,
            "max_height": null,
            "max_width": null,
            "min_height": null,
            "min_width": null,
            "object_fit": null,
            "object_position": null,
            "order": null,
            "overflow": null,
            "overflow_x": null,
            "overflow_y": null,
            "padding": null,
            "right": null,
            "top": null,
            "visibility": null,
            "width": null
          }
        },
        "2660790cb82c4807a2eb4ee992798137": {
          "model_module": "@jupyter-widgets/controls",
          "model_name": "DescriptionStyleModel",
          "model_module_version": "1.5.0",
          "state": {
            "_model_module": "@jupyter-widgets/controls",
            "_model_module_version": "1.5.0",
            "_model_name": "DescriptionStyleModel",
            "_view_count": null,
            "_view_module": "@jupyter-widgets/base",
            "_view_module_version": "1.2.0",
            "_view_name": "StyleView",
            "description_width": ""
          }
        },
        "6caf67bf342e4ada926c5571f77dccd3": {
          "model_module": "@jupyter-widgets/base",
          "model_name": "LayoutModel",
          "model_module_version": "1.2.0",
          "state": {
            "_model_module": "@jupyter-widgets/base",
            "_model_module_version": "1.2.0",
            "_model_name": "LayoutModel",
            "_view_count": null,
            "_view_module": "@jupyter-widgets/base",
            "_view_module_version": "1.2.0",
            "_view_name": "LayoutView",
            "align_content": null,
            "align_items": null,
            "align_self": null,
            "border": null,
            "bottom": null,
            "display": null,
            "flex": null,
            "flex_flow": null,
            "grid_area": null,
            "grid_auto_columns": null,
            "grid_auto_flow": null,
            "grid_auto_rows": null,
            "grid_column": null,
            "grid_gap": null,
            "grid_row": null,
            "grid_template_areas": null,
            "grid_template_columns": null,
            "grid_template_rows": null,
            "height": null,
            "justify_content": null,
            "justify_items": null,
            "left": null,
            "margin": null,
            "max_height": null,
            "max_width": null,
            "min_height": null,
            "min_width": null,
            "object_fit": null,
            "object_position": null,
            "order": null,
            "overflow": null,
            "overflow_x": null,
            "overflow_y": null,
            "padding": null,
            "right": null,
            "top": null,
            "visibility": null,
            "width": null
          }
        },
        "4b2d6e29e8f241d28e0c1f2861ea7959": {
          "model_module": "@jupyter-widgets/controls",
          "model_name": "ProgressStyleModel",
          "model_module_version": "1.5.0",
          "state": {
            "_model_module": "@jupyter-widgets/controls",
            "_model_module_version": "1.5.0",
            "_model_name": "ProgressStyleModel",
            "_view_count": null,
            "_view_module": "@jupyter-widgets/base",
            "_view_module_version": "1.2.0",
            "_view_name": "StyleView",
            "bar_color": null,
            "description_width": ""
          }
        },
        "e4c5bd4f94684f768bc9632b1ad21acf": {
          "model_module": "@jupyter-widgets/base",
          "model_name": "LayoutModel",
          "model_module_version": "1.2.0",
          "state": {
            "_model_module": "@jupyter-widgets/base",
            "_model_module_version": "1.2.0",
            "_model_name": "LayoutModel",
            "_view_count": null,
            "_view_module": "@jupyter-widgets/base",
            "_view_module_version": "1.2.0",
            "_view_name": "LayoutView",
            "align_content": null,
            "align_items": null,
            "align_self": null,
            "border": null,
            "bottom": null,
            "display": null,
            "flex": null,
            "flex_flow": null,
            "grid_area": null,
            "grid_auto_columns": null,
            "grid_auto_flow": null,
            "grid_auto_rows": null,
            "grid_column": null,
            "grid_gap": null,
            "grid_row": null,
            "grid_template_areas": null,
            "grid_template_columns": null,
            "grid_template_rows": null,
            "height": null,
            "justify_content": null,
            "justify_items": null,
            "left": null,
            "margin": null,
            "max_height": null,
            "max_width": null,
            "min_height": null,
            "min_width": null,
            "object_fit": null,
            "object_position": null,
            "order": null,
            "overflow": null,
            "overflow_x": null,
            "overflow_y": null,
            "padding": null,
            "right": null,
            "top": null,
            "visibility": null,
            "width": null
          }
        },
        "3958691388b34992a305eca05a841d90": {
          "model_module": "@jupyter-widgets/controls",
          "model_name": "DescriptionStyleModel",
          "model_module_version": "1.5.0",
          "state": {
            "_model_module": "@jupyter-widgets/controls",
            "_model_module_version": "1.5.0",
            "_model_name": "DescriptionStyleModel",
            "_view_count": null,
            "_view_module": "@jupyter-widgets/base",
            "_view_module_version": "1.2.0",
            "_view_name": "StyleView",
            "description_width": ""
          }
        }
      }
    }
  },
  "cells": [
    {
      "cell_type": "markdown",
      "metadata": {
        "id": "view-in-github",
        "colab_type": "text"
      },
      "source": [
        "<a href=\"https://colab.research.google.com/github/AndreasKing-Goks/MIR_Deep_Learning/blob/main/TP_02_High_level_MLP_with_PyTorch.ipynb\" target=\"_parent\"><img src=\"https://colab.research.google.com/assets/colab-badge.svg\" alt=\"Open In Colab\"/></a>"
      ]
    },
    {
      "cell_type": "markdown",
      "metadata": {
        "id": "YXzeB4F_TvY2"
      },
      "source": [
        "# High level deep learning\n",
        "\n",
        "## Introduction\n",
        "\n",
        "In the past lab we have used the low-level API of PyTorch to implement an MLP. We trained the model to fit a synthetic data set and we experimented with different batch sizes and learning rates.\n",
        "\n",
        "In this lab we will use one of PyTorch high-level APIs: `torch.nn`. This time we will experiment on more complex and natural datasets: MNIST or Fashion-MNIST.\n",
        "\n",
        "\n",
        "## Objectives\n",
        "- Learn to use the PyTorch `nn` API\n",
        "- Build, train and use a simple MLP\n",
        "- Analyse the some of the predictions and mistakes of the model\n",
        "\n",
        "## Getting started\n",
        "\n",
        "We will first import all necessary modules:"
      ]
    },
    {
      "cell_type": "code",
      "metadata": {
        "id": "WM7kdLjWTvY_"
      },
      "source": [
        "import torch\n",
        "import torchvision\n",
        "import torchvision.transforms as transforms\n",
        "import torch.nn as nn\n",
        "import torch.nn.functional as F\n",
        "\n",
        "import numpy as np\n",
        "import matplotlib.pyplot as plt\n",
        "import matplotlib.animation as animation\n",
        "from IPython.display import HTML\n",
        "\n",
        "from sklearn.metrics import ConfusionMatrixDisplay"
      ],
      "execution_count": null,
      "outputs": []
    },
    {
      "cell_type": "code",
      "source": [
        "# Setup device agnostic code (i.e., train using gpu if abailable, else use cpu)\n",
        "if torch.cuda.is_available():\n",
        "  device = 'cuda'\n",
        "else:\n",
        "  device = \"cpu\"\n",
        "device"
      ],
      "metadata": {
        "colab": {
          "base_uri": "https://localhost:8080/",
          "height": 35
        },
        "id": "FtmVnCXYVmzU",
        "outputId": "d6b473ab-513b-4d1a-a43c-d51b5398d3a8"
      },
      "execution_count": null,
      "outputs": [
        {
          "output_type": "execute_result",
          "data": {
            "text/plain": [
              "'cpu'"
            ],
            "application/vnd.google.colaboratory.intrinsic+json": {
              "type": "string"
            }
          },
          "metadata": {},
          "execution_count": 2
        }
      ]
    },
    {
      "cell_type": "markdown",
      "metadata": {
        "id": "oXsKqrbB8Jww"
      },
      "source": [
        "# PyTorch data handling\n",
        "\n",
        "There are two main data-handling objects in PyTorch.\n",
        "- `torch.utils.data.Dataset`: is an ordered collection of data samples and their labels (if available). PyTorch provides several implementations of these objects for commonly used datasets [here](https://pytorch.org/vision/stable/datasets.html). These usually download the data and have code to access each sample preprocessed with a `torch.transforms` if provided by the user.\n",
        "- `torch.utils.data.DataLoader`: this class will wrap a `Dataset` with an iterator and serve it sequentially, in mini-batches if requested. When preparing the mini-batches the `DataLoader` must collate several examples into a single tensor. This is done by the `collate_fn` argument that can be passed to the `DataLoader` constructor. In most cases the default implementation of this function is sufficient.  \n",
        "\n",
        "Here is an example of using these classes to obtain the publicly available FashionMNIST and iterating over it."
      ]
    },
    {
      "cell_type": "code",
      "metadata": {
        "colab": {
          "base_uri": "https://localhost:8080/",
          "height": 423,
          "referenced_widgets": [
            "889f446bfa4f4fe0bf7fe43d13f52d14",
            "5e097cb0fe8248a3afcdf6b58f78836c",
            "112a2d4098694cacb61234e451c482f1",
            "f1f4f432b33f45508e528a406e84e162",
            "d7573bd397ac4865889f52597ed7d7c7",
            "526f7712409946c99727a3b36764ef80",
            "fc19c53c232041e39435112615387ba7",
            "c28954bf05c2409b9477c9d870136d09",
            "2c7d08e0dc45481bb0b0c996090ba89d",
            "9a0dcdb5ea944202a54318a2e9207c9d",
            "9fb8e00d6e62495e87592e3a74a94344",
            "1ebf463fa1c44b779006a6af292f8d9a",
            "32fde92a67f9436eaa7b10bfcb4d79ba",
            "8b29f463b1724e7cabb689e31994ac38",
            "eee422774bac4a158fc0315c133c2bc6",
            "832241479d7445cbbe4d3af3a4acec46",
            "eca42256c92c48d69b323fe1d1c003e1",
            "9556336c586e4bfebc92ee7ff262e12f",
            "fa2c8c08753646a9bd2bf3bfa18caa69",
            "c3fc7f5865984a34ad2b8915a207a331",
            "8f07b934c4da48a6a94188b35dff4577",
            "d6cd794ea7a442fa8bba4b2f11521620",
            "d482d650ae754909808f10b399bf89b0",
            "bc07243f253c4269bb88e4bd3a553029",
            "a933c6c220cc47e4bd867912e67d4d9f",
            "fcd2f35b3a7c4dd08657f964438534dc",
            "9305be0f611a4ead94a767c6e55bfc30",
            "b143eff4ca51420bacd547216a42f192",
            "fe68c45fec494293a3e4bc4fced94d55",
            "80646ac5db6b4ee0bfd7afc9491227dc",
            "805d21ad591d42eb9f67e4dc58cac039",
            "66ac02c5ffda4e60bd48b23ee102805a",
            "7a99cf557ea14dc58c5c67716e66b507",
            "577ebd073cde435391068cd537955a28",
            "709b910bc6a44cd1bfa6eff2adbcc51a",
            "6932a456b7fc4682a8d8771a1b3294cf",
            "197c19038b234c838b2223626c0cd046",
            "ee7956a6ee894f63b1efe80061766afa",
            "9a57af15fdda4339812af7d57153ab5d",
            "2660790cb82c4807a2eb4ee992798137",
            "6caf67bf342e4ada926c5571f77dccd3",
            "4b2d6e29e8f241d28e0c1f2861ea7959",
            "e4c5bd4f94684f768bc9632b1ad21acf",
            "3958691388b34992a305eca05a841d90"
          ]
        },
        "id": "zlNvg4N08L5i",
        "outputId": "d8c265cc-27af-4e3e-d49b-a4d3d4b90164"
      },
      "source": [
        "training_data = torchvision.datasets.FashionMNIST(\n",
        "    root=\"data/fashionmnist\",\n",
        "    train=True,\n",
        "    download=True,\n",
        "    transform=transforms.ToTensor()\n",
        ")\n",
        "\n",
        "train_dataloader = torch.utils.data.DataLoader(training_data, batch_size=64, shuffle=True)\n",
        "\n",
        "for epoch in range(2):\n",
        "    for data, labels in train_dataloader:\n",
        "        # Here we could do a gradient descent step on our model parameters\n",
        "        pass"
      ],
      "execution_count": null,
      "outputs": [
        {
          "output_type": "stream",
          "name": "stdout",
          "text": [
            "Downloading http://fashion-mnist.s3-website.eu-central-1.amazonaws.com/train-images-idx3-ubyte.gz\n",
            "Downloading http://fashion-mnist.s3-website.eu-central-1.amazonaws.com/train-images-idx3-ubyte.gz to data/fashionmnist/FashionMNIST/raw/train-images-idx3-ubyte.gz\n"
          ]
        },
        {
          "output_type": "display_data",
          "data": {
            "text/plain": [
              "  0%|          | 0/26421880 [00:00<?, ?it/s]"
            ],
            "application/vnd.jupyter.widget-view+json": {
              "version_major": 2,
              "version_minor": 0,
              "model_id": "889f446bfa4f4fe0bf7fe43d13f52d14"
            }
          },
          "metadata": {}
        },
        {
          "output_type": "stream",
          "name": "stdout",
          "text": [
            "Extracting data/fashionmnist/FashionMNIST/raw/train-images-idx3-ubyte.gz to data/fashionmnist/FashionMNIST/raw\n",
            "\n",
            "Downloading http://fashion-mnist.s3-website.eu-central-1.amazonaws.com/train-labels-idx1-ubyte.gz\n",
            "Downloading http://fashion-mnist.s3-website.eu-central-1.amazonaws.com/train-labels-idx1-ubyte.gz to data/fashionmnist/FashionMNIST/raw/train-labels-idx1-ubyte.gz\n"
          ]
        },
        {
          "output_type": "display_data",
          "data": {
            "text/plain": [
              "  0%|          | 0/29515 [00:00<?, ?it/s]"
            ],
            "application/vnd.jupyter.widget-view+json": {
              "version_major": 2,
              "version_minor": 0,
              "model_id": "1ebf463fa1c44b779006a6af292f8d9a"
            }
          },
          "metadata": {}
        },
        {
          "output_type": "stream",
          "name": "stdout",
          "text": [
            "Extracting data/fashionmnist/FashionMNIST/raw/train-labels-idx1-ubyte.gz to data/fashionmnist/FashionMNIST/raw\n",
            "\n",
            "Downloading http://fashion-mnist.s3-website.eu-central-1.amazonaws.com/t10k-images-idx3-ubyte.gz\n",
            "Downloading http://fashion-mnist.s3-website.eu-central-1.amazonaws.com/t10k-images-idx3-ubyte.gz to data/fashionmnist/FashionMNIST/raw/t10k-images-idx3-ubyte.gz\n"
          ]
        },
        {
          "output_type": "display_data",
          "data": {
            "text/plain": [
              "  0%|          | 0/4422102 [00:00<?, ?it/s]"
            ],
            "application/vnd.jupyter.widget-view+json": {
              "version_major": 2,
              "version_minor": 0,
              "model_id": "d482d650ae754909808f10b399bf89b0"
            }
          },
          "metadata": {}
        },
        {
          "output_type": "stream",
          "name": "stdout",
          "text": [
            "Extracting data/fashionmnist/FashionMNIST/raw/t10k-images-idx3-ubyte.gz to data/fashionmnist/FashionMNIST/raw\n",
            "\n",
            "Downloading http://fashion-mnist.s3-website.eu-central-1.amazonaws.com/t10k-labels-idx1-ubyte.gz\n",
            "Downloading http://fashion-mnist.s3-website.eu-central-1.amazonaws.com/t10k-labels-idx1-ubyte.gz to data/fashionmnist/FashionMNIST/raw/t10k-labels-idx1-ubyte.gz\n"
          ]
        },
        {
          "output_type": "display_data",
          "data": {
            "text/plain": [
              "  0%|          | 0/5148 [00:00<?, ?it/s]"
            ],
            "application/vnd.jupyter.widget-view+json": {
              "version_major": 2,
              "version_minor": 0,
              "model_id": "577ebd073cde435391068cd537955a28"
            }
          },
          "metadata": {}
        },
        {
          "output_type": "stream",
          "name": "stdout",
          "text": [
            "Extracting data/fashionmnist/FashionMNIST/raw/t10k-labels-idx1-ubyte.gz to data/fashionmnist/FashionMNIST/raw\n",
            "\n"
          ]
        }
      ]
    },
    {
      "cell_type": "markdown",
      "metadata": {
        "id": "bvLiqO5YTvZB"
      },
      "source": [
        "## MNIST data\n",
        "\n",
        "The MNIST database of handwritten digits scanned into gray-scale images. The digits have been size-normalized and centered in a fixed-size image.\n",
        "\n",
        "We can easily download the data and load it as PyTorch tensors using [`torchvision.datasets.MNIST`](https://pytorch.org/vision/stable/datasets.html#mnist)\n",
        "\n",
        "The output of torchvision datasets are PILImage images of range $[0, 1]$. We transform them to PyTorch tensors and normalize them to have zero mean and a range of $[-1, 1]$ by creating a transform object and pass it to the dataset constructor:\n",
        "\n",
        "```\n",
        "transform = transforms.Compose(\n",
        "    [transforms.ToTensor(),\n",
        "     transforms.Normalize((0.5, 0.5, 0.5), (0.5, 0.5, 0.5))])\n",
        "```\n",
        "\n",
        "\n",
        "## Exercise 1\n",
        "Download and load the train and test splits of the MNIST dataset into variables `train_set` and `test_set`."
      ]
    },
    {
      "cell_type": "code",
      "metadata": {
        "id": "L5eYtiM3TvZC",
        "colab": {
          "base_uri": "https://localhost:8080/",
          "height": 236
        },
        "outputId": "0de67570-556a-4b00-ba88-6dba624fa0e7"
      },
      "source": [
        "### BEGIN SOLUTION\n",
        "## Specify the initialization\n",
        "# bs = 30\n",
        "# transform = torchvision.transforms.Compose(\n",
        "#     [transforms.ToTensor(),\n",
        "#      transforms.Normalize((0.5), (0.5))])\n",
        "\n",
        "## Create train and test dataset\n",
        "# Train dataset (train=True)\n",
        "MNIST_train = torchvision.datasets.MNIST(\n",
        "    root='content/sample_data/MNIST/', # Download data to this directory\n",
        "    train=True, # Specify into the training data\n",
        "    download=True, # Download data if it is not exist inside the dir folder\n",
        "    transform=transforms.ToTensor(), # Transform images from PIL format to Torch tensors\n",
        "    target_transform=None) # do not transform image labels\n",
        "# Test dataset (train=False)\n",
        "MNIST_test = torchvision.datasets.MNIST(\n",
        "    root='content/sample_data/MNIST/', # Download data to this directory\n",
        "    train=False, # Specify into the test data\n",
        "    download=True, # Download data if it is not exist inside the dir folder\n",
        "    transform=transforms.ToTensor(), # Transform images from PIL format to Torch tensors\n",
        "    target_transform=None) # do not transform image labels\n",
        "### END SOLUTION"
      ],
      "execution_count": null,
      "outputs": [
        {
          "output_type": "error",
          "ename": "NameError",
          "evalue": "ignored",
          "traceback": [
            "\u001b[0;31m---------------------------------------------------------------------------\u001b[0m",
            "\u001b[0;31mNameError\u001b[0m                                 Traceback (most recent call last)",
            "\u001b[0;32m<ipython-input-1-9b51211849ef>\u001b[0m in \u001b[0;36m<module>\u001b[0;34m\u001b[0m\n\u001b[1;32m      8\u001b[0m \u001b[0;31m## Create train and test dataset\u001b[0m\u001b[0;34m\u001b[0m\u001b[0;34m\u001b[0m\u001b[0;34m\u001b[0m\u001b[0m\n\u001b[1;32m      9\u001b[0m \u001b[0;31m# Train dataset (train=True)\u001b[0m\u001b[0;34m\u001b[0m\u001b[0;34m\u001b[0m\u001b[0;34m\u001b[0m\u001b[0m\n\u001b[0;32m---> 10\u001b[0;31m MNIST_train = torchvision.datasets.MNIST(\n\u001b[0m\u001b[1;32m     11\u001b[0m     \u001b[0mroot\u001b[0m\u001b[0;34m=\u001b[0m\u001b[0;34m'content/sample_data/MNIST/'\u001b[0m\u001b[0;34m,\u001b[0m \u001b[0;31m# Download data to this directory\u001b[0m\u001b[0;34m\u001b[0m\u001b[0;34m\u001b[0m\u001b[0m\n\u001b[1;32m     12\u001b[0m     \u001b[0mtrain\u001b[0m\u001b[0;34m=\u001b[0m\u001b[0;32mTrue\u001b[0m\u001b[0;34m,\u001b[0m \u001b[0;31m# Specify into the training data\u001b[0m\u001b[0;34m\u001b[0m\u001b[0;34m\u001b[0m\u001b[0m\n",
            "\u001b[0;31mNameError\u001b[0m: name 'torchvision' is not defined"
          ]
        }
      ]
    },
    {
      "cell_type": "markdown",
      "metadata": {
        "id": "Ad8zHXqATvZC"
      },
      "source": [
        "Next we are going to explore and visualize the data.\n",
        "\n",
        "## Exercise 2\n",
        "Print how many examples there are in total and the size of the images. \n",
        "\n",
        "Plot the first example and set the title to its label.\n",
        "\n",
        "You can access examples in a dataset by indexing it with an integer: ```first_example = my_dataset[0]```\n",
        "\n",
        "You may use `plt.imshow` to show the examples, use a grayscale colormap when doing so."
      ]
    },
    {
      "cell_type": "code",
      "metadata": {
        "id": "76yVfZs5TvZJ",
        "colab": {
          "base_uri": "https://localhost:8080/",
          "height": 334
        },
        "outputId": "af5f16d0-1af2-4187-88a6-c7e33cbb83cd"
      },
      "source": [
        "### BEGIN SOLUTION\n",
        "# Print how many example in total and the size of images\n",
        "print(\"Total number of training data are {}\".format(len(MNIST_train)))\n",
        "print(\"Total number of test data are {}\".format(len(MNIST_test)))\n",
        "print(\"The size of images are {}\".format(MNIST_train[0][0][0].shape))\n",
        "\n",
        "# Show one image from training dataset\n",
        "first_example = MNIST_train[0][0][0]\n",
        "\n",
        "plt.imshow(first_example, cmap = 'gray')\n",
        "\n",
        "### END SOLUTION"
      ],
      "execution_count": null,
      "outputs": [
        {
          "output_type": "stream",
          "name": "stdout",
          "text": [
            "Total number of training data are 60000\n",
            "Total number of test data are 10000\n",
            "The size of images are torch.Size([28, 28])\n"
          ]
        },
        {
          "output_type": "execute_result",
          "data": {
            "text/plain": [
              "<matplotlib.image.AxesImage at 0x7f243b128f10>"
            ]
          },
          "metadata": {},
          "execution_count": 4
        },
        {
          "output_type": "display_data",
          "data": {
            "text/plain": [
              "<Figure size 432x288 with 1 Axes>"
            ],
            "image/png": "[encoded data removed]"
          },
          "metadata": {
            "needs_background": "light"
          }
        }
      ]
    },
    {
      "cell_type": "code",
      "source": [
        "(MNIST_train[0][0].shape)"
      ],
      "metadata": {
        "colab": {
          "base_uri": "https://localhost:8080/"
        },
        "id": "X65p3Zig9eqo",
        "outputId": "cffbb067-85a2-4099-f630-a1cbfb8a268d"
      },
      "execution_count": null,
      "outputs": [
        {
          "output_type": "execute_result",
          "data": {
            "text/plain": [
              "torch.Size([1, 28, 28])"
            ]
          },
          "metadata": {},
          "execution_count": 31
        }
      ]
    },
    {
      "cell_type": "code",
      "source": [
        "# MNIST_train type is  torchvision.datasets, has 60000 image in it\n",
        "# MNIST_train[0] type is tuple, change index different number, containing single number pixel data\n",
        "# MNIST_train[0][0] type is tensor [1,28,28] shape (this is single channel obtained from the tuple (imagine rgb))\n",
        "# MNIST_train[0][0][0] type is tensor [28,28] shape (This is the individual image 28 by 28)\n",
        "# MNIST_train[0][0][0][0] type is tensor [28] shape \n",
        "# When the two last index change, plt.imshow is not working\n",
        "# When the first index changed, plt.imshow shows different pic"
      ],
      "metadata": {
        "id": "f4QZeJy6-PYb"
      },
      "execution_count": null,
      "outputs": []
    },
    {
      "cell_type": "markdown",
      "metadata": {
        "id": "mgyT7-MwTvZS"
      },
      "source": [
        "We can perform multiple plots using [`Figure.add_subplot`](https://matplotlib.org/stable/api/figure_api.html?highlight=fig%20add_subplot#matplotlib.figure.Figure.add_subplot) like in the following snippet:\n",
        "```\n",
        "fig = plt.figure(figsize=(10, 10))\n",
        "for i, image in enumerate(images):\n",
        "    ax = fig.add_subplot(n_rows, n_cols, i+1)\n",
        "\n",
        "    # some code to normalize each image\n",
        "\n",
        "    ax.imshow(...\n",
        "```\n",
        "\n",
        "This function returns an `Axis` object. We may then call the methods `Axis.imshow()`, `Axis.set_xticks()` and `Axis.set_xlabel`.\n",
        "\n",
        "After all the plotting we may call `plt.tight_layout()` to adjust the layout of the plots.\n",
        "\n",
        "Finally may use Python's function [`enumerate`](https://docs.python.org/3.6/library/functions.html#enumerate) to keep track of the index of axis object we are operating on."
      ]
    },
    {
      "cell_type": "markdown",
      "metadata": {
        "id": "fhH4ExHnTvZT"
      },
      "source": [
        "## Exercise 3\n",
        "Using `matplotlib` plot a set of 25 images (in a 5x5 grid) and set as their x-label the label assigned to each."
      ]
    },
    {
      "cell_type": "code",
      "metadata": {
        "id": "wkSh-RwPTvZT",
        "colab": {
          "base_uri": "https://localhost:8080/",
          "height": 369
        },
        "outputId": "bf474390-5910-4b9d-fda0-2366b4ea8c8b"
      },
      "source": [
        "### BEGIN SOLUTION\n",
        "n_rows = 5\n",
        "n_cols = 5\n",
        "fig = plt.figure(figsize=(n_rows, n_cols))\n",
        "for i, image in enumerate(MNIST_train):\n",
        "    # Check if loop overshoot\n",
        "    if i == n_rows * n_cols:\n",
        "      break\n",
        "    \n",
        "    # Do add subplot\n",
        "    ax = fig.add_subplot(n_rows, n_cols, i+1)\n",
        "\n",
        "    # Show plot\n",
        "    ax.imshow(image[0][0], cmap = 'gray')\n",
        "    ax.axes.xaxis.set_visible(False)\n",
        "    ax.axes.yaxis.set_visible(False)\n",
        "    ax.title.set_text(str(image[1]))\n",
        "plt.tight_layout()\n",
        "### END SOLUTION"
      ],
      "execution_count": null,
      "outputs": [
        {
          "output_type": "display_data",
          "data": {
            "text/plain": [
              "<Figure size 360x360 with 25 Axes>"
            ],
            "image/png": "[encoded data removed]"
          },
          "metadata": {
            "needs_background": "light"
          }
        }
      ]
    },
    {
      "cell_type": "code",
      "source": [
        "## How it works:\n",
        "# We enumerate MNIST_train, got individual tuple containing image data\n",
        "# image = MNIST_train[0]\n",
        "# But then we called image[0][0], which the same expression as MNIST_train[0][0][0]\n",
        "# Iterating image over MNIST_train would get us MNIST[1][0][0], MNIST[2][0][0] so on and so forth\n",
        "# However image[1] gives us the label (?)\n",
        "\n",
        "print(MNIST_train[0][1])\n",
        "print(MNIST_train[1][1])\n",
        "print(MNIST_train[2][1])\n",
        "# print(MNIST_train[0][2]) error\n",
        "\n",
        "# Because the MNIST_train[0] is tuple\n",
        "# MNIST_train[0][0] access the image, MNIST_train[0][1] access the label"
      ],
      "metadata": {
        "id": "JCIM4Vs9alCl",
        "colab": {
          "base_uri": "https://localhost:8080/"
        },
        "outputId": "13914aee-bc22-4661-eb0a-993ecacdb84d"
      },
      "execution_count": null,
      "outputs": [
        {
          "output_type": "stream",
          "name": "stdout",
          "text": [
            "5\n",
            "0\n",
            "4\n"
          ]
        }
      ]
    },
    {
      "cell_type": "markdown",
      "metadata": {
        "id": "RHSl3LMITvZU"
      },
      "source": [
        "## PyTorch model\n",
        "\n",
        "PyTorch uses an object oriented approach to defining models. We must inherit from [`nn.Module`](https://pytorch.org/docs/stable/generated/torch.nn.Module.html?highlight=module#torch.nn.Module) and override the constructor and the `forward` method. For instance te recreate the model we used in our previous lab we will do the following:\n",
        "\n",
        "```\n",
        "class MyMLP(nn.Module):\n",
        "    def __init__(self):\n",
        "        super().__init__()\n",
        "        self.fc1 = nn.Linear(2, 2)\n",
        "        self.fc2 = nn.Linear(2, 1)\n",
        "\n",
        "    def forward(self, x):\n",
        "        x = torch.flatten(x, 1) # flatten all dimensions except batch\n",
        "        x = torch.sigmoid(self.fc1(x))\n",
        "        x = self.fc2(x)\n",
        "        return x\n",
        "```\n",
        "\n",
        "**Remark**: Note that we have not applied the `torch.sigmoid` activation function on the last layer. Many criterion functions (loss functions) used in PyTorch operate on what we call the *logits*. Logits are the pre-activations of the last layer. In other words, in PyTorch we often don't have an output activation function inside the model and rather let the criterion apply it internally when computing the error.\n",
        "\n",
        "In our current problem, we must classify each image as one out of 10 different classes. Therefore for the output we will need 10 units. When interpreting as probabilities we will want them to sum to 1, as a probability distribution (multinomial). For this we we will have to apply the output activation function `torch.softmax`. Similarly to the sigmoid it restrains the output of each unit between 0 and 1 using exponentials, but it divides each by their sum (thus ensuring their sum to 1).\n",
        "\n",
        "$$\n",
        "\\sigma(\\mathbf{z})_j = \\frac{e^{\\mathbf{z}_j}}{\\sum_k e^{\\mathbf{z}_k}}\n",
        "$$\n",
        "\n",
        "\n",
        "## Exercise 4\n",
        "Build a 2-layer MLP with 100 hidden units to classify each image of MNIST by the digit written."
      ]
    },
    {
      "cell_type": "code",
      "source": [
        "# class MyMLP(nn.Module):\n",
        "#     ### BEGIN SOLUTION\n",
        "#     def __init__(self):\n",
        "#         super().__init__()\n",
        "#         self.fc1 = nn.Linear(28*28, 100)\n",
        "#         self.fc2 = nn.Linear(100, 10)\n",
        "\n",
        "#     def forward(self, x):\n",
        "#         x = torch.flatten(x, 1) # flatten all dimensions except batch\n",
        "#         x = torch.sigmoid(self.fc1(x))\n",
        "#         x = torch.softmax(self.fc2(x), dim=1)\n",
        "#         return x\n",
        "#     ### END SOLUTION"
      ],
      "metadata": {
        "id": "y_ltZo5pculo"
      },
      "execution_count": null,
      "outputs": []
    },
    {
      "cell_type": "code",
      "metadata": {
        "id": "7K-AAGv9TvZV"
      },
      "source": [
        "class MyMLP(nn.Module):\n",
        "    ### BEGIN SOLUTION\n",
        "    def __init__(self, input_shape, hidden_units, output_shape):\n",
        "        super().__init__()\n",
        "        self.fc1 = nn.Linear(input_shape, hidden_units)\n",
        "        self.fc2 = nn.Linear(hidden_units, output_shape)\n",
        "\n",
        "    def forward(self, x):\n",
        "        x = torch.flatten(x, 1) # flatten all dimensions except batch\n",
        "        x = torch.sigmoid(self.fc1(x))\n",
        "        x = torch.softmax(self.fc2(x), dim=1)\n",
        "        return x\n",
        "    ### END SOLUTION"
      ],
      "execution_count": null,
      "outputs": []
    },
    {
      "cell_type": "markdown",
      "metadata": {
        "id": "gUKlwFNuTvZV"
      },
      "source": [
        "Once we instantiate our model we may print it using `print`.\n",
        "\n",
        "## Exercise 5\n",
        "Instantiate and print the model."
      ]
    },
    {
      "cell_type": "markdown",
      "source": [],
      "metadata": {
        "id": "v7ijBZV62tjZ"
      }
    },
    {
      "cell_type": "code",
      "metadata": {
        "id": "_ZIYbr_nTvZV",
        "colab": {
          "base_uri": "https://localhost:8080/"
        },
        "outputId": "9ba92974-6d05-4360-f2ba-3ff2b03abbf9"
      },
      "source": [
        "### BEGIN SOLUTION\n",
        "image_size = MNIST_train[0][0].shape\n",
        "#print(image_size)\n",
        "\n",
        "input_shape = image_size[0] * image_size[1] * image_size[2]\n",
        "#print(input_shape)\n",
        "hidden_units = 100\n",
        "output_shape = 10\n",
        "\n",
        "model = MyMLP(input_shape,hidden_units,output_shape)\n",
        "print(model)\n",
        "### END SOLUTION"
      ],
      "execution_count": null,
      "outputs": [
        {
          "output_type": "stream",
          "name": "stdout",
          "text": [
            "MyMLP(\n",
            "  (fc1): Linear(in_features=784, out_features=100, bias=True)\n",
            "  (fc2): Linear(in_features=100, out_features=10, bias=True)\n",
            ")\n"
          ]
        }
      ]
    },
    {
      "cell_type": "code",
      "source": [
        "## How it works\n",
        "# First we need to specify the nn model using the nn.linear(input_shape, output_shape)\n",
        "# Input_shape, output_shape need to be in int format, that is why we use image_size shape (1 x 28 x 28) to get the number of input nodes\n",
        "# the x = torch.flatten(x,1) is to modify the input data. Input shape != input data."
      ],
      "metadata": {
        "id": "PH1V1koi5obj"
      },
      "execution_count": null,
      "outputs": []
    },
    {
      "cell_type": "code",
      "source": [
        "t = torch.randn(1,28,28)\n",
        "t_f0 = torch.flatten(t,0)\n",
        "t_f1 = torch.flatten(t,1)\n",
        "t_f2 = torch.flatten(t,2)\n",
        "print(t.shape)\n",
        "print(t_f0.shape)\n",
        "print(t_f1.shape)\n",
        "print(t_f2.shape)"
      ],
      "metadata": {
        "colab": {
          "base_uri": "https://localhost:8080/"
        },
        "id": "98VTCvRb7s20",
        "outputId": "9450d8ee-f7cc-4dd3-c443-abe612d36bc6"
      },
      "execution_count": null,
      "outputs": [
        {
          "output_type": "stream",
          "name": "stdout",
          "text": [
            "torch.Size([1, 28, 28])\n",
            "torch.Size([784])\n",
            "torch.Size([1, 784])\n",
            "torch.Size([1, 28, 28])\n"
          ]
        }
      ]
    },
    {
      "cell_type": "code",
      "source": [
        "# torch.flatten(t,0) completely flatten out the tensor t into 1 dimensional data\n",
        "# torch.flatten(t,1) flatten out the tensor t into 2 dimensional data\n",
        "# torch.flatten(t,2) flatten out the tensor t into 3 dimensional data (means it is not changing)"
      ],
      "metadata": {
        "id": "N94MhjH2BdfV"
      },
      "execution_count": null,
      "outputs": []
    },
    {
      "cell_type": "code",
      "source": [
        "v = torch.randn(10,3,5,5)\n",
        "v_f0 = torch.flatten(v,0)\n",
        "v_f1 = torch.flatten(v,1)\n",
        "v_f2 = torch.flatten(v,2)\n",
        "v_f3 = torch.flatten(v,3)\n",
        "print(v.shape)\n",
        "print(v_f0.shape)\n",
        "print(v_f1.shape)\n",
        "print(v_f2.shape)\n",
        "print(v_f3.shape)"
      ],
      "metadata": {
        "colab": {
          "base_uri": "https://localhost:8080/"
        },
        "id": "cT7yN_QmAr7r",
        "outputId": "9ad02277-d9cb-45af-822b-4cb213643ffb"
      },
      "execution_count": null,
      "outputs": [
        {
          "output_type": "stream",
          "name": "stdout",
          "text": [
            "torch.Size([10, 3, 5, 5])\n",
            "torch.Size([750])\n",
            "torch.Size([10, 75])\n",
            "torch.Size([10, 3, 25])\n",
            "torch.Size([10, 3, 5, 5])\n"
          ]
        }
      ]
    },
    {
      "cell_type": "code",
      "source": [
        "# Flattening begins from the end dimension"
      ],
      "metadata": {
        "id": "yqNehi5EGIvL"
      },
      "execution_count": null,
      "outputs": []
    },
    {
      "cell_type": "markdown",
      "metadata": {
        "id": "gKCSRzyKTvZW"
      },
      "source": [
        "## PyTorch training\n",
        "\n",
        "In order to train the model in PyTorch we will need the following ingredients:\n",
        " - a **data loader** which will iterate the dataset and construct mini-batches, \n",
        " - a **loss criterion** to measure the error,\n",
        " - an **optimizer** to train the model parameters\n",
        "\n",
        "A default data loader is found in [`torch.utils.data.DataLoader`](https://pytorch.org/docs/stable/data.html#torch.utils.data.DataLoader). Criterions are found in `torch.nn` and optimizers in `torch.optim`.\n",
        "\n",
        "We will use a [`torch.nn.CrossEntropyLoss`](https://pytorch.org/docs/stable/generated/torch.nn.CrossEntropyLoss.html) criterion that allows computing the classification error of a multi-class task. When looking at the docs we note that it operates on the logits (pre-activations) and the targets must be integers indicating the class index (this is how the targets are already encoded in the data sets and loaders, no further processing needed).\n",
        "\n",
        "As optimizer we will use [`torch.optim.SGD`](https://pytorch.org/docs/stable/generated/torch.optim.SGD.html#torch.optim.SGD) with `lr=0.001` and `momentum=0.9`."
      ]
    },
    {
      "cell_type": "markdown",
      "metadata": {
        "id": "6m37VIsyclyW"
      },
      "source": [
        "## Exercise 6\n",
        "\n",
        "Create the data loaders for train and test with a batch size of 16."
      ]
    },
    {
      "cell_type": "code",
      "metadata": {
        "id": "T3d-f0rzcibk"
      },
      "source": [
        "### BEGIN SOLUTION\n",
        "## Create the data loader\n",
        "bs = 16\n",
        "# Train data loader\n",
        "train_loader = torch.utils.data.DataLoader(MNIST_train,\n",
        "                                          batch_size=bs,\n",
        "                                          shuffle=True,)\n",
        "# Test data loader\n",
        "test_loader = torch.utils.data.DataLoader(MNIST_test,\n",
        "                                          batch_size=bs,\n",
        "                                          shuffle=True,)\n",
        "### END SOLUTION"
      ],
      "execution_count": null,
      "outputs": []
    },
    {
      "cell_type": "markdown",
      "metadata": {
        "id": "N83wmjOPdUj_"
      },
      "source": [
        "## Exercise 7\n",
        "\n",
        "Create a cross-entropy loss criterion and an SGD optimizer."
      ]
    },
    {
      "cell_type": "code",
      "metadata": {
        "id": "XksWGmcfTvZW"
      },
      "source": [
        "import torch.optim as optim\n",
        "\n",
        "### BEGIN SOLUTION\n",
        "loss_fn = nn.CrossEntropyLoss()\n",
        "optimizer = torch.optim.SGD(model.parameters(), lr=0.001, momentum=0.9)\n",
        "### END SOLUTION"
      ],
      "execution_count": null,
      "outputs": []
    },
    {
      "cell_type": "markdown",
      "metadata": {
        "id": "mhrnxhOLTvZW"
      },
      "source": [
        "Now we will train the model by building the training loop in which we will iterate over the data from the data loader.\n",
        "\n",
        "For each mini-batch in the data loader:\n",
        "1. zero the gradient\n",
        "2. run a forward pass of the model on the mini-batch\n",
        "3. compute the loss between model's output and targets using the criterion\n",
        "4. perform a backward pass (compute the gradients)\n",
        "5. run a step of the optimizer\n",
        "6. print every 1000 iterations the average loss over those past iterations\n",
        "\n",
        "## Exercise 8\n",
        "Train your model."
      ]
    },
    {
      "cell_type": "code",
      "source": [
        "for train_batch, label in train_loader:\n",
        "  print(train_batch.shape)\n",
        "  print(label.shape)\n",
        "  break\n",
        "\n",
        "print(type(train_loader))"
      ],
      "metadata": {
        "colab": {
          "base_uri": "https://localhost:8080/"
        },
        "id": "a82n1DV6DHOp",
        "outputId": "74fb94a5-d711-4947-f495-f8ce6069a8d7"
      },
      "execution_count": null,
      "outputs": [
        {
          "output_type": "stream",
          "name": "stdout",
          "text": [
            "torch.Size([16, 1, 28, 28])\n",
            "torch.Size([16])\n",
            "<class 'torch.utils.data.dataloader.DataLoader'>\n"
          ]
        }
      ]
    },
    {
      "cell_type": "code",
      "source": [
        "# MNIST_train[0] tuple (image data and image label)\n",
        "# MNIST_train[0][0] access the image, MNIST_train[0][1] access the label\n",
        "# train_loader is a tensor containing batch. each batch holds 16 image data.\n",
        "# train_loader also hold label, using for loop (x,y)"
      ],
      "metadata": {
        "id": "euqROb8uGcZZ"
      },
      "execution_count": null,
      "outputs": []
    },
    {
      "cell_type": "code",
      "source": [
        "for train_batch, label in train_loader:\n",
        "  plt.imshow(train_batch[0][0], cmap='gray')\n",
        "  #print(train_batch[0][0][0].size())\n",
        "  break\n",
        "\n",
        "# The image shown is random because the train_loader shuffle is active"
      ],
      "metadata": {
        "colab": {
          "base_uri": "https://localhost:8080/",
          "height": 265
        },
        "id": "QuW4M7qTFHkA",
        "outputId": "e6987f39-aa4a-48fc-8470-c2ab95fe7956"
      },
      "execution_count": null,
      "outputs": [
        {
          "output_type": "display_data",
          "data": {
            "text/plain": [
              "<Figure size 432x288 with 1 Axes>"
            ],
            "image/png": "[encoded data removed]"
          },
          "metadata": {
            "needs_background": "light"
          }
        }
      ]
    },
    {
      "cell_type": "code",
      "metadata": {
        "id": "u8tF_gJ7TvZX",
        "colab": {
          "base_uri": "https://localhost:8080/"
        },
        "outputId": "4add5b79-6564-4709-c2b1-e11098f713a1"
      },
      "source": [
        "def train_model(model, dataloader, loss_fn, optimizer, n_epochs=10, delay = 1, verbose=False):\n",
        "    # Loss for each epoch\n",
        "    losses = []\n",
        "    \n",
        "    # Get the number of batch\n",
        "    n_batch = len(dataloader)\n",
        "\n",
        "    # Get the batch size using class __iter__\n",
        "    batch_size = next(iter(dataloader))[1].shape[0]\n",
        "\n",
        "    for epoch in range(n_epochs):\n",
        "        ### BEGIN SOLUTION\n",
        "        # Loss sum\n",
        "        loss = 0\n",
        "\n",
        "        for i, (input,target) in enumerate(dataloader):\n",
        "          # 1. Zero the gradient\n",
        "          with torch.no_grad():\n",
        "            optimizer.zero_grad()\n",
        "\n",
        "          # 2. Run a forward pass of the model on the mini-batch\n",
        "          predict = model.forward(input)\n",
        "\n",
        "          # 3. Compute the loss between model's output and targets using the criterion\n",
        "          output = loss_fn(predict, target)\n",
        "          loss += output\n",
        "\n",
        "          # 4. Perform a backward pass\n",
        "          output.backward()\n",
        "\n",
        "          # 5. Run a step of the optimizer \n",
        "          with torch.no_grad():\n",
        "            optimizer.step()\n",
        "\n",
        "          # 6. Print train progress\n",
        "          if verbose == True:\n",
        "            Iteration = epoch*n_batch + i\n",
        "            if Iteration % delay == 0 and Iteration != 0:\n",
        "              print(f'Epoch {epoch+1}; Iteration {Iteration}; Iteration Loss: {loss/i:.3}')\n",
        "        \n",
        "        # Store epoch loss\n",
        "        losses.append(loss/n_batch)\n",
        "\n",
        "        ### END SOLUTION\n",
        "\n",
        "model = MyMLP(input_shape,hidden_units,output_shape)      \n",
        "loss_fn = nn.CrossEntropyLoss()\n",
        "optimizer = torch.optim.SGD(model.parameters(), lr=0.005, momentum=0.9)\n",
        "train_model(model, train_loader, loss_fn, optimizer, n_epochs=10, delay = 1000, verbose=True)"
      ],
      "execution_count": null,
      "outputs": [
        {
          "output_type": "stream",
          "name": "stdout",
          "text": [
            "Epoch 1; Iteration 1000; Iteration Loss: 2.29\n",
            "Epoch 1; Iteration 2000; Iteration Loss: 2.24\n",
            "Epoch 1; Iteration 3000; Iteration Loss: 2.18\n",
            "Epoch 2; Iteration 4000; Iteration Loss: 1.96\n",
            "Epoch 2; Iteration 5000; Iteration Loss: 1.9\n",
            "Epoch 2; Iteration 6000; Iteration Loss: 1.87\n",
            "Epoch 2; Iteration 7000; Iteration Loss: 1.85\n",
            "Epoch 3; Iteration 8000; Iteration Loss: 1.8\n",
            "Epoch 3; Iteration 9000; Iteration Loss: 1.78\n",
            "Epoch 3; Iteration 10000; Iteration Loss: 1.77\n",
            "Epoch 3; Iteration 11000; Iteration Loss: 1.76\n",
            "Epoch 4; Iteration 12000; Iteration Loss: 1.73\n",
            "Epoch 4; Iteration 13000; Iteration Loss: 1.73\n",
            "Epoch 4; Iteration 14000; Iteration Loss: 1.73\n",
            "Epoch 5; Iteration 15000; Iteration Loss: inf\n",
            "Epoch 5; Iteration 16000; Iteration Loss: 1.71\n",
            "Epoch 5; Iteration 17000; Iteration Loss: 1.71\n",
            "Epoch 5; Iteration 18000; Iteration Loss: 1.71\n",
            "Epoch 6; Iteration 19000; Iteration Loss: 1.71\n",
            "Epoch 6; Iteration 20000; Iteration Loss: 1.71\n",
            "Epoch 6; Iteration 21000; Iteration Loss: 1.71\n",
            "Epoch 6; Iteration 22000; Iteration Loss: 1.71\n",
            "Epoch 7; Iteration 23000; Iteration Loss: 1.71\n",
            "Epoch 7; Iteration 24000; Iteration Loss: 1.7\n",
            "Epoch 7; Iteration 25000; Iteration Loss: 1.7\n",
            "Epoch 7; Iteration 26000; Iteration Loss: 1.7\n",
            "Epoch 8; Iteration 27000; Iteration Loss: 1.66\n",
            "Epoch 8; Iteration 28000; Iteration Loss: 1.66\n",
            "Epoch 8; Iteration 29000; Iteration Loss: 1.65\n",
            "Epoch 9; Iteration 30000; Iteration Loss: inf\n",
            "Epoch 9; Iteration 31000; Iteration Loss: 1.64\n",
            "Epoch 9; Iteration 32000; Iteration Loss: 1.62\n",
            "Epoch 9; Iteration 33000; Iteration Loss: 1.61\n",
            "Epoch 10; Iteration 34000; Iteration Loss: 1.59\n",
            "Epoch 10; Iteration 35000; Iteration Loss: 1.58\n",
            "Epoch 10; Iteration 36000; Iteration Loss: 1.58\n",
            "Epoch 10; Iteration 37000; Iteration Loss: 1.58\n"
          ]
        }
      ]
    },
    {
      "cell_type": "code",
      "source": [
        "## How it works\n",
        "# batch training: do training per batch. loss returned are the average from the batch data trained\n",
        "\n",
        "# check the batch size\n",
        "# check the number of batch in data_loader (train data divided by batch size)\n",
        "# create storage for each epoch loss \n",
        "# do epoch looping\n",
        "# create loss sum for batch iteration\n",
        "# batch looping\n",
        "# zero the grad (within the with torch.no_grad())\n",
        "# forward pass (do the training)\n",
        "# compute the loss (y predict - target)\n",
        "# do the backward operation \n",
        "# optimizer.step() inside with torch.no_grad()\n",
        "# optimizer.step is just updating parameters using the gradient. We dont want to update the gradient here\n"
      ],
      "metadata": {
        "id": "GU60V-HtrXSB"
      },
      "execution_count": null,
      "outputs": []
    },
    {
      "cell_type": "markdown",
      "metadata": {
        "id": "X6PLIPnGTvZX"
      },
      "source": [
        "We will now quickly save the trained model parameters `model.state_dict()` by using `torch.save()`:\n",
        "\n",
        "\n",
        "## Exercise 9\n",
        "\n",
        "Save the model into a file names `mnist_model.pt`. Save as well any other information required to continue training from where we left off."
      ]
    },
    {
      "cell_type": "code",
      "metadata": {
        "id": "AQpjbXKlTvZX"
      },
      "source": [
        "### BEGIN SOLUTION\n",
        "torch.save(model.state_dict() , 'mnist_model.pt')\n",
        "### END SOLUTION"
      ],
      "execution_count": null,
      "outputs": []
    },
    {
      "cell_type": "code",
      "source": [
        "MNIST_test[0][1]"
      ],
      "metadata": {
        "colab": {
          "base_uri": "https://localhost:8080/"
        },
        "id": "IvC2R2VR1TpR",
        "outputId": "a4da0095-173b-4195-b61c-fa9e3e3ede86"
      },
      "execution_count": null,
      "outputs": [
        {
          "output_type": "execute_result",
          "data": {
            "text/plain": [
              "7"
            ]
          },
          "metadata": {},
          "execution_count": 17
        }
      ]
    },
    {
      "cell_type": "markdown",
      "metadata": {
        "id": "d2emDItoTvZY"
      },
      "source": [
        "With a trained model, we may now check out the predictions of the model.\n",
        "\n",
        "## Exercise 10\n",
        "\n",
        "Visualize the first 25 images of the test set and set each image's title to the predicted digit and in parenthesis the label."
      ]
    },
    {
      "cell_type": "code",
      "source": [
        "def pred_to_class(pred):\n",
        "    '''\n",
        "    Converts prediction to class\n",
        "    '''\n",
        "    return torch.argmax(pred, dim=-1)"
      ],
      "metadata": {
        "id": "wqL8ujUu2Rny"
      },
      "execution_count": null,
      "outputs": []
    },
    {
      "cell_type": "code",
      "source": [
        "print(model(MNIST_test[0][0]))\n",
        "# This is the prediction from Neural Network (see Softmax, with 10 item, they are prediction. Max returned to get the most confident guess)"
      ],
      "metadata": {
        "colab": {
          "base_uri": "https://localhost:8080/"
        },
        "id": "R-jFf5hc3ZpV",
        "outputId": "4e260e41-7d3a-47fb-c18a-a6f65a37b9bc"
      },
      "execution_count": null,
      "outputs": [
        {
          "output_type": "stream",
          "name": "stdout",
          "text": [
            "tensor([[2.5568e-07, 4.4908e-10, 3.7103e-07, 9.1425e-06, 2.9875e-09, 2.1774e-06,\n",
            "         2.0706e-11, 9.9978e-01, 1.8903e-08, 2.0707e-04]],\n",
            "       grad_fn=<SoftmaxBackward0>)\n"
          ]
        }
      ]
    },
    {
      "cell_type": "code",
      "metadata": {
        "id": "VFjpww9_TvZY",
        "colab": {
          "base_uri": "https://localhost:8080/",
          "height": 369
        },
        "outputId": "390ec674-d2fa-4f1c-83e4-8a651c16ffed"
      },
      "source": [
        "### BEGIN SOLUTION\n",
        "fig , axis = plt.subplots(5,5,figsize=(5,5))\n",
        "index = 0\n",
        "\n",
        "for row in range(5):\n",
        "    for column in range(5):\n",
        "        image, label = MNIST_test[index]\n",
        "        #with torch.inference_mode():\n",
        "        label_pred = pred_to_class(model(image)).item()\n",
        "\n",
        "        axis[row,column].imshow(image.squeeze(), cmap='gray')\n",
        "        axis[row,column].set_title(f'{label}({label_pred})')\n",
        "        axis[row,column].get_yaxis().set_visible(False)\n",
        "        axis[row,column].get_xaxis().set_visible(False)\n",
        "\n",
        "        index += 1\n",
        "\n",
        "### END SOLUTION\n",
        "\n",
        "plt.tight_layout()"
      ],
      "execution_count": null,
      "outputs": [
        {
          "output_type": "display_data",
          "data": {
            "text/plain": [
              "<Figure size 360x360 with 25 Axes>"
            ],
            "image/png": "[encoded data removed]"
          },
          "metadata": {
            "needs_background": "light"
          }
        }
      ]
    },
    {
      "cell_type": "code",
      "source": [
        "# torch.inference_mode for better performance disabling view tracking"
      ],
      "metadata": {
        "id": "FNLVtvPw22CS"
      },
      "execution_count": null,
      "outputs": []
    },
    {
      "cell_type": "markdown",
      "metadata": {
        "id": "cN1974siTvZZ"
      },
      "source": [
        "## Exercise 11\n",
        "Do the same as in the previous exercise, with the same images. But this time, before predicting the label shift all the images 3 pixels to the right. You may use `torch.roll` to perform the shift.\n"
      ]
    },
    {
      "cell_type": "code",
      "metadata": {
        "id": "jNsJSkn8TvZZ",
        "colab": {
          "base_uri": "https://localhost:8080/",
          "height": 369
        },
        "outputId": "dcfb608d-db8f-42a6-c3ad-262e2e9a8cb7"
      },
      "source": [
        "### BEGIN SOLUTION\n",
        "fig , axis = plt.subplots(5,5,figsize=(5,5))\n",
        "index = 0\n",
        "\n",
        "for row in range(5):\n",
        "    for column in range(5):\n",
        "        image, label = MNIST_test[index]\n",
        "        #with torch.inference_mode():\n",
        "        torch.roll(image, shifts =3 , dims =1)\n",
        "        label_pred = pred_to_class(model(image)).item()\n",
        "\n",
        "        axis[row,column].imshow(image.squeeze(), cmap='gray')\n",
        "        axis[row,column].set_title(f'{label}({label_pred})')\n",
        "        axis[row,column].get_yaxis().set_visible(False)\n",
        "        axis[row,column].get_xaxis().set_visible(False)\n",
        "\n",
        "        index += 1\n",
        "\n",
        "### END SOLUTION\n",
        "\n",
        "plt.tight_layout()"
      ],
      "execution_count": null,
      "outputs": [
        {
          "output_type": "display_data",
          "data": {
            "text/plain": [
              "<Figure size 360x360 with 25 Axes>"
            ],
            "image/png": "[encoded data removed]"
          },
          "metadata": {
            "needs_background": "light"
          }
        }
      ]
    },
    {
      "cell_type": "markdown",
      "metadata": {
        "id": "vB0s2NbOTvZa"
      },
      "source": [
        "## Exercise 12\n",
        "Compare the predicted labels, and explain the difference you observe.\n"
      ]
    },
    {
      "cell_type": "markdown",
      "metadata": {
        "id": "lNp6bzxJTvZa"
      },
      "source": [
        "Your explanation here."
      ]
    },
    {
      "cell_type": "markdown",
      "metadata": {
        "id": "lYiChLbRTvZa"
      },
      "source": [
        "We are now going to compute the accuracy on the whole test set. Here we could iterate over the `test_set` one image at a time. But to leverage parallelisation and reduce computational cost we will iterate over the test set in batches using the `test_loader`.\n",
        "\n",
        "## Exercise 13\n",
        "What's the accuracy of the model on the full test set?\n"
      ]
    },
    {
      "cell_type": "code",
      "metadata": {
        "id": "TjVJp2jaTvZa",
        "colab": {
          "base_uri": "https://localhost:8080/"
        },
        "outputId": "b5b44873-acdb-4846-b851-af0f5f307d3f"
      },
      "source": [
        "correct = 0\n",
        "total = 0\n",
        "\n",
        "# since we're not training, we don't need to calculate the gradients for our outputs\n",
        "### BEGIN SOLUTION\n",
        "with torch.inference_mode():\n",
        "    for input,target in test_loader:\n",
        "        input, target = input.to(device), target.to(device)\n",
        "        pred_test = model(input)\n",
        "        correct += len(torch.where(target == pred_test.argmax(-1))[0])#sum(torch.where(y==pred_test.argmax(-1)))\n",
        "        total += len(target)\n",
        "### END SOLUTION\n",
        "\n",
        "print('Accuracy of the network on the 10000 test images: %d %%' % (\n",
        "    100 * correct / total))"
      ],
      "execution_count": null,
      "outputs": [
        {
          "output_type": "stream",
          "name": "stdout",
          "text": [
            "Accuracy of the network on the 10000 test images: 91 %\n"
          ]
        }
      ]
    },
    {
      "cell_type": "markdown",
      "metadata": {
        "id": "ar_mEoCRWBXa"
      },
      "source": [
        "## Exercise 14\n",
        "What's the accuracy of the model on the full test set if we apply the image shift of 3 pixels to the right? (Verify by plotting the last batch that the images have been shifted correctly)"
      ]
    },
    {
      "cell_type": "code",
      "metadata": {
        "colab": {
          "base_uri": "https://localhost:8080/",
          "height": 738
        },
        "id": "N6L90HxsWJLz",
        "outputId": "81375669-bc2e-4153-f415-4ffed5c7a072"
      },
      "source": [
        "correct = 0\n",
        "total = 0\n",
        "\n",
        "# since we're not training, we don't need to calculate the gradients for our outputs\n",
        "### BEGIN SOLUTION\n",
        "with torch.inference_mode():\n",
        "    for input,target in test_loader:\n",
        "        input, target = input.to(device), target.to(device)\n",
        "        image_shift = torch.roll(input, shifts=3, dims=2)\n",
        "        pred_test = model(image_shift)\n",
        "        correct += len(torch.where(target == pred_test.argmax(-1))[0])#sum(torch.where(y==pred_test.argmax(-1)))\n",
        "        total += len(target)\n",
        "\n",
        "# Original last batch\n",
        "fig , axis = plt.subplots(5,5,figsize=(5,5))\n",
        "index = -25\n",
        "\n",
        "for row in range(5):\n",
        "    for column in range(5):\n",
        "        image, label = MNIST_test[index]\n",
        "        #with torch.inference_mode():\n",
        "        label_pred = pred_to_class(model(image)).item()\n",
        "\n",
        "        axis[row,column].imshow(image.squeeze(), cmap='gray')\n",
        "        axis[row,column].set_title(f'{label}({label_pred})')\n",
        "        axis[row,column].get_yaxis().set_visible(False)\n",
        "        axis[row,column].get_xaxis().set_visible(False)\n",
        "\n",
        "        index += 1\n",
        "\n",
        "plt.tight_layout()\n",
        "\n",
        "# Shifted\n",
        "fig2 , axis2 = plt.subplots(5,5,figsize=(5,5))\n",
        "index2 = -25\n",
        "\n",
        "for row2 in range(5):\n",
        "    for column2 in range(5):\n",
        "        image2, label2 = MNIST_test[index2]\n",
        "        #with torch.inference_mode():\n",
        "        image_s = torch.roll(image2, shifts =3 , dims =2)\n",
        "        label_pred2 = pred_to_class(model(image_s)).item()\n",
        "\n",
        "        axis2[row2,column2].imshow(image_s.squeeze(), cmap='gray')\n",
        "        axis2[row2,column2].set_title(f'{label2}({label_pred2})')\n",
        "        axis2[row2,column2].get_yaxis().set_visible(False)\n",
        "        axis2[row2,column2].get_xaxis().set_visible(False)\n",
        "\n",
        "        index2 += 1\n",
        "\n",
        "plt.tight_layout()\n",
        "\n",
        "### END SOLUTION\n",
        "\n",
        "\n",
        "print('Accuracy of the network on the 10000 test shifted images: %d %%' % (\n",
        "    100 * correct / total))"
      ],
      "execution_count": null,
      "outputs": [
        {
          "output_type": "stream",
          "name": "stdout",
          "text": [
            "Accuracy of the network on the 10000 test shifted images: 28 %\n"
          ]
        },
        {
          "output_type": "display_data",
          "data": {
            "text/plain": [
              "<Figure size 360x360 with 25 Axes>"
            ],
            "image/png": "[encoded data removed]"
          },
          "metadata": {
            "needs_background": "light"
          }
        },
        {
          "output_type": "display_data",
          "data": {
            "text/plain": [
              "<Figure size 360x360 with 25 Axes>"
            ],
            "image/png": "[encoded data removed]"
          },
          "metadata": {
            "needs_background": "light"
          }
        }
      ]
    },
    {
      "cell_type": "markdown",
      "metadata": {
        "id": "2QtGEWDSh6TP"
      },
      "source": [
        "We will now explore further the performance on the original (non-shifted) version of the test set.\n",
        "\n",
        "To start with we will look a the confusion matrix. For this we may use the [`sklearn.metrics.ConfusionMatrixDisplay.from_predictions`](https://scikit-learn.org/stable/modules/generated/sklearn.metrics.ConfusionMatrixDisplay.html#sklearn.metrics.ConfusionMatrixDisplay.from_predictions)\n",
        "\n",
        "## Exercise 15\n",
        "\n",
        "Plot the confusion matrix over the test set."
      ]
    },
    {
      "cell_type": "code",
      "metadata": {
        "colab": {
          "base_uri": "https://localhost:8080/",
          "height": 279
        },
        "id": "IiRKOpURlmKv",
        "outputId": "dc99f9ca-052b-4a03-fc89-69b58d416a73"
      },
      "source": [
        "from sklearn.metrics import confusion_matrix, ConfusionMatrixDisplay\n",
        "\n",
        "import numpy as np\n",
        "### BEGIN SOLUTION\n",
        "cm = np.zeros((10,10), dtype=np.int16)\n",
        "labels=[i for i in range(10)]\n",
        "\n",
        "with torch.inference_mode():\n",
        "    for input,target in test_loader:\n",
        "        input, target = input.to(device), target.to(device)\n",
        "        pred_test = model(input)\n",
        "        cm = cm+confusion_matrix(target,pred_test.argmax(-1),labels=labels)\n",
        "\n",
        "disp = ConfusionMatrixDisplay(confusion_matrix=cm)\n",
        "disp.plot()\n",
        "### END SOLUTION\n",
        "\n",
        "plt.show()"
      ],
      "execution_count": null,
      "outputs": [
        {
          "output_type": "display_data",
          "data": {
            "text/plain": [
              "<Figure size 432x288 with 2 Axes>"
            ],
            "image/png": "[encoded data removed]"
          },
          "metadata": {
            "needs_background": "light"
          }
        }
      ]
    },
    {
      "cell_type": "markdown",
      "metadata": {
        "id": "NyjjO2sPm9WR"
      },
      "source": [
        "## Exercise 16\n",
        "\n",
        "Do the same on the 3-pixel right-shifted images."
      ]
    },
    {
      "cell_type": "code",
      "metadata": {
        "colab": {
          "base_uri": "https://localhost:8080/",
          "height": 283
        },
        "id": "xJBzgZ7nm8s5",
        "outputId": "a311e487-87b3-4624-bcad-fc62f391b71e"
      },
      "source": [
        "from sklearn.metrics import confusion_matrix, ConfusionMatrixDisplay\n",
        "\n",
        "import numpy as np\n",
        "### BEGIN SOLUTION\n",
        "cm = np.zeros((10,10), dtype=np.int16)\n",
        "labels=[i for i in range(10)]\n",
        "\n",
        "with torch.inference_mode():\n",
        "    for input,target in test_loader:\n",
        "        input, target = input.to(device), target.to(device)\n",
        "        image_s = torch.roll(i)\n",
        "        pred_test = model(input)\n",
        "        cm = cm+confusion_matrix(target,pred_test.argmax(-1),labels=labels)\n",
        "\n",
        "disp = ConfusionMatrixDisplay(confusion_matrix=cm)\n",
        "disp.plot()\n",
        "### END SOLUTION\n",
        "\n",
        "plt.show()"
      ],
      "execution_count": null,
      "outputs": [
        {
          "output_type": "display_data",
          "data": {
            "image/png": "[encoded data removed]",
            "text/plain": [
              "<Figure size 432x288 with 2 Axes>"
            ]
          },
          "metadata": {
            "needs_background": "light"
          }
        }
      ]
    },
    {
      "cell_type": "markdown",
      "metadata": {
        "id": "qPHIvb8qo3UJ"
      },
      "source": [
        "## Exercise 17\n",
        "\n",
        "Discuss the differences in the confusion matrix. "
      ]
    },
    {
      "cell_type": "markdown",
      "metadata": {
        "id": "gtF-Je_OMegC"
      },
      "source": [
        "**Your discussion here**"
      ]
    },
    {
      "cell_type": "markdown",
      "metadata": {
        "id": "cN61Aa8LnWel"
      },
      "source": [
        "# Miss-predictions\n",
        "\n",
        "One last aspect that we are going to explore is the actual mistakes that the model does. A way to interpret the output of the model is as a probability distribution over possible classes. \n",
        "\n",
        "\n",
        "With respect to this predicted probability distribution we may order the model's mistakes on a scale between two extremes:\n",
        "- examples for which the model is equally confused among all alternative classes\n",
        "- examples for which the model is 100% certain about it belonging to an incorrect class\n",
        "\n",
        "This quality can be measured by the entropy of the distribution among incorrect classes.\n",
        "\n",
        "The entropy can be measured using the [`torch.distributions.Categorical`](https://pytorch.org/docs/stable/distributions.html#categorical).\n",
        "\n",
        "**Hint:** The model outputs the logits. To obtain an actual probability distribution we must first apply the `torch.softmax` operation on the logits.\n",
        "\n",
        "**Hint:** That if we want to check the entropy among **alternative** classes we must first set the probability to 0 for the correct class.\n",
        "\n",
        "**Hint:** In order to find the k-highest (or k-lowest) values of a tensor we may use [`torch.topk`](https://pytorch.org/docs/stable/generated/torch.topk.html)\n",
        "\n",
        "## [Optional] Exercise 18\n",
        "\n",
        "Show the 16 test mispredicted images with **highest** prediction entropy among wrong classes.\n",
        "\n",
        "Show the 16 test mispredicted images with **lowest** prediction entropy among wrong classes."
      ]
    },
    {
      "cell_type": "code",
      "metadata": {
        "colab": {
          "base_uri": "https://localhost:8080/",
          "height": 571
        },
        "id": "Rn-WWCEGJmL-",
        "outputId": "03d9a7de-226f-4175-bb9d-39bca400678f"
      },
      "source": [
        "from torch.distributions import Categorical\n",
        "\n",
        "all_labels = []\n",
        "all_logits = []\n",
        "all_images = [] \n",
        "\n",
        "### BEGIN SOLUTION\n",
        "### END SOLUTION"
      ],
      "execution_count": null,
      "outputs": [
        {
          "output_type": "display_data",
          "data": {
            "image/png": "[encoded data removed]",
            "text/plain": [
              "<Figure size 432x288 with 16 Axes>"
            ]
          },
          "metadata": {}
        },
        {
          "output_type": "display_data",
          "data": {
            "image/png": "[encoded data removed]",
            "text/plain": [
              "<Figure size 432x288 with 16 Axes>"
            ]
          },
          "metadata": {}
        }
      ]
    },
    {
      "cell_type": "code",
      "metadata": {
        "id": "pl2U7k7_P6jb"
      },
      "source": [],
      "execution_count": null,
      "outputs": []
    }
  ]
}